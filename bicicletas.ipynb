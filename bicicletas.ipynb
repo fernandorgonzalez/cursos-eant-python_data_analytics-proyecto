{
 "cells": [
  {
   "cell_type": "code",
   "execution_count": 1,
   "id": "63c237e5",
   "metadata": {},
   "outputs": [],
   "source": [
    "import pandas as pd"
   ]
  },
  {
   "cell_type": "code",
   "execution_count": 2,
   "id": "40be8760",
   "metadata": {},
   "outputs": [],
   "source": [
    "output_file_name = \"bicicletas.xlsx\"\n",
    "output_sheet_name = \"bicicletas\""
   ]
  },
  {
   "cell_type": "code",
   "execution_count": 3,
   "id": "957bae7d",
   "metadata": {},
   "outputs": [],
   "source": [
    "df_bicicletas_2020 = pd.read_csv('bicicletas_2020.csv')"
   ]
  },
  {
   "cell_type": "code",
   "execution_count": 4,
   "id": "051298ad",
   "metadata": {},
   "outputs": [],
   "source": [
    "df_bicicletas_2020['inicio_año'] = pd.DatetimeIndex(df_bicicletas_2020['fecha_origen_recorrido']).year"
   ]
  },
  {
   "cell_type": "code",
   "execution_count": 5,
   "id": "4d9fd871",
   "metadata": {},
   "outputs": [],
   "source": [
    "df_bicicletas_2020['inicio_mes'] = pd.DatetimeIndex(df_bicicletas_2020['fecha_origen_recorrido']).month"
   ]
  },
  {
   "cell_type": "code",
   "execution_count": 6,
   "id": "1e6ae3b5",
   "metadata": {},
   "outputs": [],
   "source": [
    "MESES = { 1 : '01', 2 : '02', 3 : '03', 4 : '04', 5 : '05', 6 : '06', 7 : '07', 8 : '08', 9 : '09', 10 : '10', 11 : '11', 12 : '12'}"
   ]
  },
  {
   "cell_type": "code",
   "execution_count": 7,
   "id": "82a7f606",
   "metadata": {},
   "outputs": [],
   "source": [
    "df_bicicletas_2020['inicio_mes'] = df_bicicletas_2020['inicio_mes'].map(MESES)"
   ]
  },
  {
   "cell_type": "code",
   "execution_count": 8,
   "id": "f352715f",
   "metadata": {},
   "outputs": [],
   "source": [
    "df_bicicletas_2020['AÑO_MES'] = df_bicicletas_2020['inicio_año'].astype(str) + df_bicicletas_2020['inicio_mes'].astype(str)"
   ]
  },
  {
   "cell_type": "code",
   "execution_count": 9,
   "id": "5696d800",
   "metadata": {},
   "outputs": [],
   "source": [
    "df_bicicletas_2020['ID'] = df_bicicletas_2020.index"
   ]
  },
  {
   "cell_type": "code",
   "execution_count": 15,
   "id": "6165c1db",
   "metadata": {},
   "outputs": [],
   "source": [
    "df_bicicletas_2020['TIPO'] = 'BICICLETAS'"
   ]
  },
  {
   "cell_type": "code",
   "execution_count": 18,
   "id": "6c564036",
   "metadata": {},
   "outputs": [
    {
     "data": {
      "text/html": [
       "<div>\n",
       "<style scoped>\n",
       "    .dataframe tbody tr th:only-of-type {\n",
       "        vertical-align: middle;\n",
       "    }\n",
       "\n",
       "    .dataframe tbody tr th {\n",
       "        vertical-align: top;\n",
       "    }\n",
       "\n",
       "    .dataframe thead th {\n",
       "        text-align: right;\n",
       "    }\n",
       "</style>\n",
       "<table border=\"1\" class=\"dataframe\">\n",
       "  <thead>\n",
       "    <tr style=\"text-align: right;\">\n",
       "      <th></th>\n",
       "      <th>AÑO_MES</th>\n",
       "      <th>TIPO</th>\n",
       "      <th>TOTAL</th>\n",
       "    </tr>\n",
       "  </thead>\n",
       "  <tbody>\n",
       "    <tr>\n",
       "      <th>0</th>\n",
       "      <td>202001</td>\n",
       "      <td>BICICLETAS</td>\n",
       "      <td>159233</td>\n",
       "    </tr>\n",
       "    <tr>\n",
       "      <th>1</th>\n",
       "      <td>202002</td>\n",
       "      <td>BICICLETAS</td>\n",
       "      <td>116965</td>\n",
       "    </tr>\n",
       "    <tr>\n",
       "      <th>2</th>\n",
       "      <td>202003</td>\n",
       "      <td>BICICLETAS</td>\n",
       "      <td>52951</td>\n",
       "    </tr>\n",
       "    <tr>\n",
       "      <th>3</th>\n",
       "      <td>202005</td>\n",
       "      <td>BICICLETAS</td>\n",
       "      <td>20235</td>\n",
       "    </tr>\n",
       "    <tr>\n",
       "      <th>4</th>\n",
       "      <td>202006</td>\n",
       "      <td>BICICLETAS</td>\n",
       "      <td>69707</td>\n",
       "    </tr>\n",
       "    <tr>\n",
       "      <th>5</th>\n",
       "      <td>202007</td>\n",
       "      <td>BICICLETAS</td>\n",
       "      <td>98328</td>\n",
       "    </tr>\n",
       "    <tr>\n",
       "      <th>6</th>\n",
       "      <td>202008</td>\n",
       "      <td>BICICLETAS</td>\n",
       "      <td>248180</td>\n",
       "    </tr>\n",
       "    <tr>\n",
       "      <th>7</th>\n",
       "      <td>202009</td>\n",
       "      <td>BICICLETAS</td>\n",
       "      <td>273719</td>\n",
       "    </tr>\n",
       "    <tr>\n",
       "      <th>8</th>\n",
       "      <td>202010</td>\n",
       "      <td>BICICLETAS</td>\n",
       "      <td>323130</td>\n",
       "    </tr>\n",
       "    <tr>\n",
       "      <th>9</th>\n",
       "      <td>202011</td>\n",
       "      <td>BICICLETAS</td>\n",
       "      <td>332410</td>\n",
       "    </tr>\n",
       "    <tr>\n",
       "      <th>10</th>\n",
       "      <td>202012</td>\n",
       "      <td>BICICLETAS</td>\n",
       "      <td>308087</td>\n",
       "    </tr>\n",
       "  </tbody>\n",
       "</table>\n",
       "</div>"
      ],
      "text/plain": [
       "   AÑO_MES        TIPO   TOTAL\n",
       "0   202001  BICICLETAS  159233\n",
       "1   202002  BICICLETAS  116965\n",
       "2   202003  BICICLETAS   52951\n",
       "3   202005  BICICLETAS   20235\n",
       "4   202006  BICICLETAS   69707\n",
       "5   202007  BICICLETAS   98328\n",
       "6   202008  BICICLETAS  248180\n",
       "7   202009  BICICLETAS  273719\n",
       "8   202010  BICICLETAS  323130\n",
       "9   202011  BICICLETAS  332410\n",
       "10  202012  BICICLETAS  308087"
      ]
     },
     "execution_count": 18,
     "metadata": {},
     "output_type": "execute_result"
    }
   ],
   "source": [
    "df = df_bicicletas_2020.groupby(['AÑO_MES','TIPO'],as_index=False).count()[['AÑO_MES','TIPO','ID']].rename({'ID':'TOTAL'},axis=1)\n",
    "df"
   ]
  },
  {
   "cell_type": "code",
   "execution_count": 19,
   "id": "c8fc4058",
   "metadata": {},
   "outputs": [],
   "source": [
    "writer = pd.ExcelWriter(output_file_name, engine='xlsxwriter')\n",
    "\n",
    "df.to_excel(writer, index=False, sheet_name=output_sheet_name)\n",
    "\n",
    "workbook  = writer.book\n",
    "worksheet = writer.sheets[output_sheet_name]\n",
    "\n",
    "format = workbook.add_format()\n",
    "format.set_align('center')\n",
    "format.set_align('vcenter')\n",
    "\n",
    "worksheet.set_column('A:C', 30, format)\n",
    "\n",
    "writer.save()"
   ]
  }
 ],
 "metadata": {
  "interpreter": {
   "hash": "eac14dce34f2fea3ce43d9da55955520a6b2e9da2e546cd680d80c9940fbf1cf"
  },
  "kernelspec": {
   "display_name": "Python 3",
   "language": "python",
   "name": "python3"
  },
  "language_info": {
   "codemirror_mode": {
    "name": "ipython",
    "version": 3
   },
   "file_extension": ".py",
   "mimetype": "text/x-python",
   "name": "python",
   "nbconvert_exporter": "python",
   "pygments_lexer": "ipython3",
   "version": "3.8.8"
  }
 },
 "nbformat": 4,
 "nbformat_minor": 5
}
