{
 "cells": [
  {
   "cell_type": "code",
   "execution_count": 77,
   "id": "63c237e5",
   "metadata": {},
   "outputs": [],
   "source": [
    "import matplotlib.pyplot as plt\n",
    "import pandas as pd\n",
    "import seaborn as sns"
   ]
  },
  {
   "cell_type": "code",
   "execution_count": 29,
   "id": "40be8760",
   "metadata": {},
   "outputs": [],
   "source": [
    "output_file_name = \"bicicletas.xlsx\"\n",
    "output_sheet_name = \"bicicletas\""
   ]
  },
  {
   "cell_type": "code",
   "execution_count": 30,
   "id": "957bae7d",
   "metadata": {},
   "outputs": [],
   "source": [
    "df_bicicletas_2020 = pd.read_csv('bicicletas_2020.csv')"
   ]
  },
  {
   "cell_type": "code",
   "execution_count": 31,
   "id": "051298ad",
   "metadata": {},
   "outputs": [],
   "source": [
    "df_bicicletas_2020['inicio_año'] = pd.DatetimeIndex(df_bicicletas_2020['fecha_origen_recorrido']).year"
   ]
  },
  {
   "cell_type": "code",
   "execution_count": 32,
   "id": "4d9fd871",
   "metadata": {},
   "outputs": [],
   "source": [
    "df_bicicletas_2020['inicio_mes'] = pd.DatetimeIndex(df_bicicletas_2020['fecha_origen_recorrido']).month"
   ]
  },
  {
   "cell_type": "code",
   "execution_count": 33,
   "id": "1e6ae3b5",
   "metadata": {},
   "outputs": [],
   "source": [
    "MESES = { 1 : '01', 2 : '02', 3 : '03', 4 : '04', 5 : '05', 6 : '06', 7 : '07', 8 : '08', 9 : '09', 10 : '10', 11 : '11', 12 : '12'}"
   ]
  },
  {
   "cell_type": "code",
   "execution_count": 34,
   "id": "82a7f606",
   "metadata": {},
   "outputs": [],
   "source": [
    "df_bicicletas_2020['inicio_mes'] = df_bicicletas_2020['inicio_mes'].map(MESES)"
   ]
  },
  {
   "cell_type": "code",
   "execution_count": 35,
   "id": "f352715f",
   "metadata": {},
   "outputs": [],
   "source": [
    "df_bicicletas_2020['AÑO_MES'] = df_bicicletas_2020['inicio_año'].astype(str) + df_bicicletas_2020['inicio_mes'].astype(str)"
   ]
  },
  {
   "cell_type": "code",
   "execution_count": 36,
   "id": "5696d800",
   "metadata": {},
   "outputs": [],
   "source": [
    "df_bicicletas_2020['ID'] = df_bicicletas_2020.index"
   ]
  },
  {
   "cell_type": "code",
   "execution_count": 37,
   "id": "34ee9462",
   "metadata": {},
   "outputs": [],
   "source": [
    "df_bicicletas_2020['TIPO'] = 'BICICLETAS'"
   ]
  },
  {
   "cell_type": "code",
   "execution_count": 110,
   "id": "6c564036",
   "metadata": {},
   "outputs": [],
   "source": [
    "df = df_bicicletas_2020.groupby(['AÑO_MES','TIPO'],as_index=False).count()[['AÑO_MES','TIPO','ID']].rename({'ID':'TOTAL'},axis=1)"
   ]
  },
  {
   "cell_type": "code",
   "execution_count": 111,
   "id": "1225d19f",
   "metadata": {},
   "outputs": [],
   "source": [
    "df = df.append({'AÑO_MES': 202004, 'TIPO' : 'BICICLETAS', 'TOTAL' : '0'}, ignore_index=True)"
   ]
  },
  {
   "cell_type": "code",
   "execution_count": 112,
   "id": "8b8bd00e",
   "metadata": {},
   "outputs": [
    {
     "data": {
      "text/html": [
       "<div>\n",
       "<style scoped>\n",
       "    .dataframe tbody tr th:only-of-type {\n",
       "        vertical-align: middle;\n",
       "    }\n",
       "\n",
       "    .dataframe tbody tr th {\n",
       "        vertical-align: top;\n",
       "    }\n",
       "\n",
       "    .dataframe thead th {\n",
       "        text-align: right;\n",
       "    }\n",
       "</style>\n",
       "<table border=\"1\" class=\"dataframe\">\n",
       "  <thead>\n",
       "    <tr style=\"text-align: right;\">\n",
       "      <th></th>\n",
       "      <th>AÑO_MES</th>\n",
       "      <th>TIPO</th>\n",
       "      <th>TOTAL</th>\n",
       "    </tr>\n",
       "  </thead>\n",
       "  <tbody>\n",
       "    <tr>\n",
       "      <th>0</th>\n",
       "      <td>202001</td>\n",
       "      <td>BICICLETAS</td>\n",
       "      <td>159233.0</td>\n",
       "    </tr>\n",
       "    <tr>\n",
       "      <th>1</th>\n",
       "      <td>202002</td>\n",
       "      <td>BICICLETAS</td>\n",
       "      <td>116965.0</td>\n",
       "    </tr>\n",
       "    <tr>\n",
       "      <th>2</th>\n",
       "      <td>202003</td>\n",
       "      <td>BICICLETAS</td>\n",
       "      <td>52951.0</td>\n",
       "    </tr>\n",
       "    <tr>\n",
       "      <th>3</th>\n",
       "      <td>202004</td>\n",
       "      <td>BICICLETAS</td>\n",
       "      <td>0.0</td>\n",
       "    </tr>\n",
       "    <tr>\n",
       "      <th>4</th>\n",
       "      <td>202005</td>\n",
       "      <td>BICICLETAS</td>\n",
       "      <td>20235.0</td>\n",
       "    </tr>\n",
       "    <tr>\n",
       "      <th>5</th>\n",
       "      <td>202006</td>\n",
       "      <td>BICICLETAS</td>\n",
       "      <td>69707.0</td>\n",
       "    </tr>\n",
       "    <tr>\n",
       "      <th>6</th>\n",
       "      <td>202007</td>\n",
       "      <td>BICICLETAS</td>\n",
       "      <td>98328.0</td>\n",
       "    </tr>\n",
       "    <tr>\n",
       "      <th>7</th>\n",
       "      <td>202008</td>\n",
       "      <td>BICICLETAS</td>\n",
       "      <td>248180.0</td>\n",
       "    </tr>\n",
       "    <tr>\n",
       "      <th>8</th>\n",
       "      <td>202009</td>\n",
       "      <td>BICICLETAS</td>\n",
       "      <td>273719.0</td>\n",
       "    </tr>\n",
       "    <tr>\n",
       "      <th>9</th>\n",
       "      <td>202010</td>\n",
       "      <td>BICICLETAS</td>\n",
       "      <td>323130.0</td>\n",
       "    </tr>\n",
       "    <tr>\n",
       "      <th>10</th>\n",
       "      <td>202011</td>\n",
       "      <td>BICICLETAS</td>\n",
       "      <td>332410.0</td>\n",
       "    </tr>\n",
       "    <tr>\n",
       "      <th>11</th>\n",
       "      <td>202012</td>\n",
       "      <td>BICICLETAS</td>\n",
       "      <td>308087.0</td>\n",
       "    </tr>\n",
       "  </tbody>\n",
       "</table>\n",
       "</div>"
      ],
      "text/plain": [
       "   AÑO_MES        TIPO     TOTAL\n",
       "0   202001  BICICLETAS  159233.0\n",
       "1   202002  BICICLETAS  116965.0\n",
       "2   202003  BICICLETAS   52951.0\n",
       "3   202004  BICICLETAS       0.0\n",
       "4   202005  BICICLETAS   20235.0\n",
       "5   202006  BICICLETAS   69707.0\n",
       "6   202007  BICICLETAS   98328.0\n",
       "7   202008  BICICLETAS  248180.0\n",
       "8   202009  BICICLETAS  273719.0\n",
       "9   202010  BICICLETAS  323130.0\n",
       "10  202011  BICICLETAS  332410.0\n",
       "11  202012  BICICLETAS  308087.0"
      ]
     },
     "execution_count": 112,
     "metadata": {},
     "output_type": "execute_result"
    }
   ],
   "source": [
    "df['AÑO_MES'] = df['AÑO_MES'].astype(str)\n",
    "df['TOTAL'] = df['TOTAL'].astype(float)\n",
    "df = df.sort_values(by=['AÑO_MES']).reset_index(drop=True)\n",
    "df"
   ]
  },
  {
   "cell_type": "code",
   "execution_count": 113,
   "id": "942046af",
   "metadata": {},
   "outputs": [
    {
     "data": {
      "image/png": "[encoded data removed]",
      "text/plain": [
       "<Figure size 720x360 with 1 Axes>"
      ]
     },
     "metadata": {
      "needs_background": "light"
     },
     "output_type": "display_data"
    }
   ],
   "source": [
    "plt.figure(figsize=(10,5))\n",
    "g = sns.barplot(data = df,\n",
    "                x= \"AÑO_MES\",\n",
    "                y = \"TOTAL\")\n",
    "plt.show()"
   ]
  },
  {
   "cell_type": "code",
   "execution_count": 70,
   "id": "c8fc4058",
   "metadata": {},
   "outputs": [],
   "source": [
    "writer = pd.ExcelWriter(output_file_name, engine='xlsxwriter')\n",
    "\n",
    "df.to_excel(writer, index=False, sheet_name=output_sheet_name)\n",
    "\n",
    "workbook  = writer.book\n",
    "worksheet = writer.sheets[output_sheet_name]\n",
    "\n",
    "format = workbook.add_format()\n",
    "format.set_align('center')\n",
    "format.set_align('vcenter')\n",
    "\n",
    "worksheet.set_column('A:C', 30, format)\n",
    "\n",
    "writer.save()"
   ]
  }
 ],
 "metadata": {
  "interpreter": {
   "hash": "eac14dce34f2fea3ce43d9da55955520a6b2e9da2e546cd680d80c9940fbf1cf"
  },
  "kernelspec": {
   "display_name": "Python 3",
   "language": "python",
   "name": "python3"
  },
  "language_info": {
   "codemirror_mode": {
    "name": "ipython",
    "version": 3
   },
   "file_extension": ".py",
   "mimetype": "text/x-python",
   "name": "python",
   "nbconvert_exporter": "python",
   "pygments_lexer": "ipython3",
   "version": "3.8.8"
  }
 },
 "nbformat": 4,
 "nbformat_minor": 5
}
