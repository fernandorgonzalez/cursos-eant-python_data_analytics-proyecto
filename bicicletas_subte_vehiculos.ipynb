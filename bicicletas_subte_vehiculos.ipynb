{
 "cells": [
  {
   "cell_type": "code",
   "execution_count": 2,
   "id": "653025c8",
   "metadata": {},
   "outputs": [],
   "source": [
    "import matplotlib.pyplot as plt"
   ]
  },
  {
   "cell_type": "code",
   "execution_count": 3,
   "id": "16755c52",
   "metadata": {},
   "outputs": [],
   "source": [
    "from openpyxl import load_workbook"
   ]
  },
  {
   "cell_type": "code",
   "execution_count": 4,
   "id": "85be694e",
   "metadata": {},
   "outputs": [],
   "source": [
    "import pandas as pd"
   ]
  },
  {
   "cell_type": "code",
   "execution_count": 5,
   "id": "dc26b518",
   "metadata": {},
   "outputs": [],
   "source": [
    "import seaborn as sns"
   ]
  },
  {
   "cell_type": "code",
   "execution_count": 6,
   "id": "f8997134",
   "metadata": {},
   "outputs": [],
   "source": [
    "input_file_name_bicicletas = \"bicicletas.xlsx\"\n",
    "input_sheet_name_bicicletas = \"bicicletas\""
   ]
  },
  {
   "cell_type": "code",
   "execution_count": 7,
   "id": "f8c00482",
   "metadata": {},
   "outputs": [],
   "source": [
    "input_file_name_subte = \"subte.xlsx\"\n",
    "input_sheet_name_subte = \"subte\""
   ]
  },
  {
   "cell_type": "code",
   "execution_count": 13,
   "id": "fbebb5c0",
   "metadata": {},
   "outputs": [],
   "source": [
    "input_file_name_vehiculos = \"vehiculos.xlsx\"\n",
    "input_sheet_name_vehiculos = \"vehiculos\""
   ]
  },
  {
   "cell_type": "code",
   "execution_count": 9,
   "id": "6b357569",
   "metadata": {},
   "outputs": [],
   "source": [
    "output_file_name = \"bicicletas_subte_vehiculos.xlsx\"\n",
    "output_sheet_name = \"bicicletas_subte_vehiculos\""
   ]
  },
  {
   "cell_type": "code",
   "execution_count": 10,
   "id": "bc5322f3",
   "metadata": {},
   "outputs": [],
   "source": [
    "df_bicicletas = pd.read_excel(input_file_name_bicicletas, sheet_name = input_sheet_name_bicicletas)"
   ]
  },
  {
   "cell_type": "code",
   "execution_count": 11,
   "id": "2894fb2d",
   "metadata": {},
   "outputs": [],
   "source": [
    "df_subte = pd.read_excel(input_file_name_subte, sheet_name = input_sheet_name_subte)"
   ]
  },
  {
   "cell_type": "code",
   "execution_count": 14,
   "id": "a02c3955",
   "metadata": {},
   "outputs": [],
   "source": [
    "df_vehiculos = pd.read_excel(input_file_name_vehiculos, sheet_name = input_sheet_name_vehiculos)"
   ]
  },
  {
   "cell_type": "code",
   "execution_count": 17,
   "id": "c0f6990a",
   "metadata": {},
   "outputs": [],
   "source": [
    "df = pd.concat([df_bicicletas,df_subte,df_vehiculos])"
   ]
  },
  {
   "cell_type": "code",
   "execution_count": 20,
   "id": "0db4d891",
   "metadata": {},
   "outputs": [
    {
     "name": "stdout",
     "output_type": "stream",
     "text": [
      "<class 'pandas.core.frame.DataFrame'>\n",
      "Int64Index: 49 entries, 0 to 19\n",
      "Data columns (total 3 columns):\n",
      " #   Column   Non-Null Count  Dtype \n",
      "---  ------   --------------  ----- \n",
      " 0   AÑO_MES  49 non-null     int64 \n",
      " 1   TIPO     49 non-null     object\n",
      " 2   TOTAL    49 non-null     int64 \n",
      "dtypes: int64(2), object(1)\n",
      "memory usage: 1.5+ KB\n"
     ]
    }
   ],
   "source": []
  }
 ],
 "metadata": {
  "interpreter": {
   "hash": "eac14dce34f2fea3ce43d9da55955520a6b2e9da2e546cd680d80c9940fbf1cf"
  },
  "kernelspec": {
   "display_name": "Python 3",
   "language": "python",
   "name": "python3"
  },
  "language_info": {
   "codemirror_mode": {
    "name": "ipython",
    "version": 3
   },
   "file_extension": ".py",
   "mimetype": "text/x-python",
   "name": "python",
   "nbconvert_exporter": "python",
   "pygments_lexer": "ipython3",
   "version": "3.8.8"
  }
 },
 "nbformat": 4,
 "nbformat_minor": 5
}
