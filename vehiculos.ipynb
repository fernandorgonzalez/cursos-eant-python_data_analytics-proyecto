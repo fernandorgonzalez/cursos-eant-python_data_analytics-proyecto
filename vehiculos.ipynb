{
 "cells": [
  {
   "cell_type": "code",
   "execution_count": 1,
   "id": "e10424d4",
   "metadata": {},
   "outputs": [],
   "source": [
    "import pandas as pd"
   ]
  },
  {
   "cell_type": "code",
   "execution_count": 2,
   "id": "be5b67a2",
   "metadata": {},
   "outputs": [],
   "source": [
    "output_file_name = \"vehiculos.xlsx\"\n",
    "output_sheet_name = \"vehiculos\""
   ]
  },
  {
   "cell_type": "code",
   "execution_count": 3,
   "id": "824b73f6",
   "metadata": {},
   "outputs": [],
   "source": [
    "df_vehiculos_2020 = pd.read_csv('vehiculos_2020.csv')"
   ]
  },
  {
   "cell_type": "code",
   "execution_count": 4,
   "id": "f323b363",
   "metadata": {},
   "outputs": [],
   "source": [
    "MESES = { 'enero' : '01', 'febrero' : '02 ', 'marzo' : '03', 'abril' : '04', 'mayo' : '05', 'junio' : '06', 'julio' : '07', 'agosto' : '08', 'septiembre' : '09', 'octubre' : '10', 'noviembre' : '11', 'diciembre' : '12'}"
   ]
  },
  {
   "cell_type": "code",
   "execution_count": 5,
   "id": "d3d0dfd8",
   "metadata": {},
   "outputs": [],
   "source": [
    "df_vehiculos_2020[\"año\"] = pd.DatetimeIndex(df_vehiculos_2020['fecha']).year"
   ]
  },
  {
   "cell_type": "code",
   "execution_count": 6,
   "id": "ece5d4c0",
   "metadata": {},
   "outputs": [],
   "source": [
    "df_vehiculos_2020[\"mes\"] = pd.DatetimeIndex(df_vehiculos_2020['fecha']).month"
   ]
  },
  {
   "cell_type": "code",
   "execution_count": 7,
   "id": "2064a5a9",
   "metadata": {},
   "outputs": [],
   "source": [
    "MESES = { 1 : '01', 2 : '02 ', 3 : '03', 4 : '04', 5 : '05', 6 : '06', 7 : '07', 8 : '08', 9 : '09', 10 : '10', 11 : '11', 12 : '12'}"
   ]
  },
  {
   "cell_type": "code",
   "execution_count": 8,
   "id": "4f92181a",
   "metadata": {},
   "outputs": [],
   "source": [
    "df_vehiculos_2020[\"mes\"] = df_vehiculos_2020[\"mes\"].map(MESES)"
   ]
  },
  {
   "cell_type": "code",
   "execution_count": 9,
   "id": "b9dcec00",
   "metadata": {},
   "outputs": [],
   "source": [
    "df_vehiculos_2020['AÑO_MES'] = df_vehiculos_2020['año'].astype(str)  + df_vehiculos_2020['mes'].astype(str) "
   ]
  },
  {
   "cell_type": "code",
   "execution_count": 10,
   "id": "6cb42f6b",
   "metadata": {},
   "outputs": [],
   "source": [
    "df_vehiculos_2020['ID'] = df_vehiculos_2020.index"
   ]
  },
  {
   "cell_type": "code",
   "execution_count": 11,
   "id": "72e50589",
   "metadata": {},
   "outputs": [],
   "source": [
    "MESES = { 'enero' : '01', 'febrero' : '02 ', 'marzo' : '03', 'abril' : '04', 'mayo' : '05', 'junio' : '06', 'julio' : '07', 'agosto' : '08', 'septiembre' : '09', 'octubre' : '10', 'noviembre' : '11', 'diciembre' : '12'}"
   ]
  },
  {
   "cell_type": "code",
   "execution_count": 16,
   "id": "fa1d4c09",
   "metadata": {},
   "outputs": [],
   "source": [
    "df_vehiculos_2020['TIPO'] = 'VEHICULOS'"
   ]
  },
  {
   "cell_type": "code",
   "execution_count": 17,
   "id": "bff56808",
   "metadata": {},
   "outputs": [
    {
     "data": {
      "text/html": [
       "<div>\n",
       "<style scoped>\n",
       "    .dataframe tbody tr th:only-of-type {\n",
       "        vertical-align: middle;\n",
       "    }\n",
       "\n",
       "    .dataframe tbody tr th {\n",
       "        vertical-align: top;\n",
       "    }\n",
       "\n",
       "    .dataframe thead th {\n",
       "        text-align: right;\n",
       "    }\n",
       "</style>\n",
       "<table border=\"1\" class=\"dataframe\">\n",
       "  <thead>\n",
       "    <tr style=\"text-align: right;\">\n",
       "      <th></th>\n",
       "      <th>AÑO_MES</th>\n",
       "      <th>TIPO</th>\n",
       "      <th>TOTAL</th>\n",
       "    </tr>\n",
       "  </thead>\n",
       "  <tbody>\n",
       "    <tr>\n",
       "      <th>0</th>\n",
       "      <td>202001</td>\n",
       "      <td>VEHICULOS</td>\n",
       "      <td>248546</td>\n",
       "    </tr>\n",
       "    <tr>\n",
       "      <th>1</th>\n",
       "      <td>202002</td>\n",
       "      <td>VEHICULOS</td>\n",
       "      <td>232209</td>\n",
       "    </tr>\n",
       "    <tr>\n",
       "      <th>2</th>\n",
       "      <td>202003</td>\n",
       "      <td>VEHICULOS</td>\n",
       "      <td>197980</td>\n",
       "    </tr>\n",
       "    <tr>\n",
       "      <th>3</th>\n",
       "      <td>202004</td>\n",
       "      <td>VEHICULOS</td>\n",
       "      <td>143191</td>\n",
       "    </tr>\n",
       "    <tr>\n",
       "      <th>4</th>\n",
       "      <td>202005</td>\n",
       "      <td>VEHICULOS</td>\n",
       "      <td>171215</td>\n",
       "    </tr>\n",
       "    <tr>\n",
       "      <th>5</th>\n",
       "      <td>202006</td>\n",
       "      <td>VEHICULOS</td>\n",
       "      <td>212227</td>\n",
       "    </tr>\n",
       "    <tr>\n",
       "      <th>6</th>\n",
       "      <td>202007</td>\n",
       "      <td>VEHICULOS</td>\n",
       "      <td>209202</td>\n",
       "    </tr>\n",
       "    <tr>\n",
       "      <th>7</th>\n",
       "      <td>202008</td>\n",
       "      <td>VEHICULOS</td>\n",
       "      <td>213511</td>\n",
       "    </tr>\n",
       "    <tr>\n",
       "      <th>8</th>\n",
       "      <td>202009</td>\n",
       "      <td>VEHICULOS</td>\n",
       "      <td>219852</td>\n",
       "    </tr>\n",
       "    <tr>\n",
       "      <th>9</th>\n",
       "      <td>202010</td>\n",
       "      <td>VEHICULOS</td>\n",
       "      <td>226641</td>\n",
       "    </tr>\n",
       "    <tr>\n",
       "      <th>10</th>\n",
       "      <td>202011</td>\n",
       "      <td>VEHICULOS</td>\n",
       "      <td>222866</td>\n",
       "    </tr>\n",
       "    <tr>\n",
       "      <th>11</th>\n",
       "      <td>202012</td>\n",
       "      <td>VEHICULOS</td>\n",
       "      <td>236303</td>\n",
       "    </tr>\n",
       "  </tbody>\n",
       "</table>\n",
       "</div>"
      ],
      "text/plain": [
       "    AÑO_MES       TIPO   TOTAL\n",
       "0    202001  VEHICULOS  248546\n",
       "1   202002   VEHICULOS  232209\n",
       "2    202003  VEHICULOS  197980\n",
       "3    202004  VEHICULOS  143191\n",
       "4    202005  VEHICULOS  171215\n",
       "5    202006  VEHICULOS  212227\n",
       "6    202007  VEHICULOS  209202\n",
       "7    202008  VEHICULOS  213511\n",
       "8    202009  VEHICULOS  219852\n",
       "9    202010  VEHICULOS  226641\n",
       "10   202011  VEHICULOS  222866\n",
       "11   202012  VEHICULOS  236303"
      ]
     },
     "execution_count": 17,
     "metadata": {},
     "output_type": "execute_result"
    }
   ],
   "source": [
    "df = df_vehiculos_2020.groupby(['AÑO_MES','TIPO'],as_index=False).count()[['AÑO_MES','TIPO','ID']].rename({'ID':'TOTAL'},axis=1)\n",
    "df"
   ]
  },
  {
   "cell_type": "code",
   "execution_count": 18,
   "id": "645c4769",
   "metadata": {},
   "outputs": [],
   "source": [
    "writer = pd.ExcelWriter(output_file_name, engine='xlsxwriter')\n",
    "\n",
    "df.to_excel(writer, index=False, sheet_name=output_sheet_name)\n",
    "\n",
    "workbook  = writer.book\n",
    "worksheet = writer.sheets[output_sheet_name]\n",
    "\n",
    "format = workbook.add_format()\n",
    "format.set_align('center')\n",
    "format.set_align('vcenter')\n",
    "\n",
    "worksheet.set_column('A:C', 30, format)\n",
    "\n",
    "writer.save()"
   ]
  },
  {
   "cell_type": "code",
   "execution_count": null,
   "id": "b6b6ef52",
   "metadata": {},
   "outputs": [],
   "source": []
  }
 ],
 "metadata": {
  "interpreter": {
   "hash": "eac14dce34f2fea3ce43d9da55955520a6b2e9da2e546cd680d80c9940fbf1cf"
  },
  "kernelspec": {
   "display_name": "Python 3",
   "language": "python",
   "name": "python3"
  },
  "language_info": {
   "codemirror_mode": {
    "name": "ipython",
    "version": 3
   },
   "file_extension": ".py",
   "mimetype": "text/x-python",
   "name": "python",
   "nbconvert_exporter": "python",
   "pygments_lexer": "ipython3",
   "version": "3.8.8"
  }
 },
 "nbformat": 4,
 "nbformat_minor": 5
}
