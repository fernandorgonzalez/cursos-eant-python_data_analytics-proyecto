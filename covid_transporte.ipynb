{
 "cells": [
  {
   "cell_type": "code",
   "execution_count": 219,
   "id": "653025c8",
   "metadata": {},
   "outputs": [],
   "source": [
    "import matplotlib.pyplot as plt\n",
    "import numpy as np\n",
    "import plotly.express as px\n",
    "import pandas as pd\n",
    "import seaborn as sns"
   ]
  },
  {
   "cell_type": "code",
   "execution_count": 43,
   "id": "f8997134",
   "metadata": {},
   "outputs": [],
   "source": [
    "input_file_name_bicicletas = \"bicicletas.xlsx\"\n",
    "input_sheet_name_bicicletas = \"bicicletas\""
   ]
  },
  {
   "cell_type": "code",
   "execution_count": 44,
   "id": "cfa6c636",
   "metadata": {},
   "outputs": [],
   "source": [
    "input_file_name_covid = \"covid.xlsx\"\n",
    "input_sheet_name_covid = \"covid\""
   ]
  },
  {
   "cell_type": "code",
   "execution_count": 45,
   "id": "f8c00482",
   "metadata": {},
   "outputs": [],
   "source": [
    "input_file_name_subte = \"subte.xlsx\"\n",
    "input_sheet_name_subte = \"subte\""
   ]
  },
  {
   "cell_type": "code",
   "execution_count": 46,
   "id": "fbebb5c0",
   "metadata": {},
   "outputs": [],
   "source": [
    "input_file_name_vehiculos = \"vehiculos.xlsx\"\n",
    "input_sheet_name_vehiculos = \"vehiculos\""
   ]
  },
  {
   "cell_type": "code",
   "execution_count": 196,
   "id": "bc5322f3",
   "metadata": {},
   "outputs": [],
   "source": [
    "df_bicicletas = pd.read_excel(input_file_name_bicicletas, sheet_name = input_sheet_name_bicicletas)"
   ]
  },
  {
   "cell_type": "code",
   "execution_count": 226,
   "id": "46039371",
   "metadata": {},
   "outputs": [
    {
     "data": {
      "text/plain": [
       "'+100 %'"
      ]
     },
     "execution_count": 226,
     "metadata": {},
     "output_type": "execute_result"
    }
   ],
   "source": [
    "bicicletas_enero = df_bicicletas.loc[ df_bicicletas.MES == 1, ['TOTAL']].iloc[0,0]\n",
    "bicicletas_diciembre = df_bicicletas.loc[ df_bicicletas.MES == 12, ['TOTAL']].iloc[0,0]\n",
    "bicicletas_diciembre_enero = int(((bicicletas_diciembre - bicicletas_enero)/bicicletas_enero)*100)\n",
    "if bicicletas_diciembre_enero > 0:\n",
    "    bicicletas_diciembre_enero = '+' + str(bicicletas_diciembre_enero) + ' %'\n",
    "else:\n",
    "    if bicicletas_diciembre_enero == 0:\n",
    "        bicicletas_diciembre_enero = \"Sin Cambios\"\n",
    "    else:\n",
    "        bicicletas_diciembre_enero = str(bicicletas_diciembre_enero) + ' %'\n",
    "bicicletas_diciembre_enero"
   ]
  },
  {
   "cell_type": "code",
   "execution_count": 48,
   "id": "322d5680",
   "metadata": {},
   "outputs": [],
   "source": [
    "df_covid = pd.read_excel(input_file_name_covid, sheet_name = input_sheet_name_covid)"
   ]
  },
  {
   "cell_type": "code",
   "execution_count": 186,
   "id": "73150f22",
   "metadata": {},
   "outputs": [
    {
     "data": {
      "text/plain": [
       "'+900 %'"
      ]
     },
     "execution_count": 186,
     "metadata": {},
     "output_type": "execute_result"
    }
   ],
   "source": [
    "covid_enero = df_covid.loc[ df_covid.MES == 1, ['TOTAL']].iloc[0,0]\n",
    "covid_diciembre = df_covid.loc[ df_covid.MES == 12, ['TOTAL']].iloc[0,0]\n",
    "covid_diciembre_enero = int(((covid_diciembre - covid_enero)/covid_enero)*100)\n",
    "if covid_diciembre_enero > 100:\n",
    "    covid_diciembre_enero = '+' + str(covid_diciembre_enero) + ' %'\n",
    "else:\n",
    "    if covid_diciembre_enero == 100:\n",
    "        covid_diciembre_enero = \"Sin Cambios\"\n",
    "    else:\n",
    "        covid_diciembre_enero = str(covid_diciembre_enero) + ' %'\n",
    "covid_diciembre_enero"
   ]
  },
  {
   "cell_type": "code",
   "execution_count": 49,
   "id": "2894fb2d",
   "metadata": {},
   "outputs": [],
   "source": [
    "df_subte = pd.read_excel(input_file_name_subte, sheet_name = input_sheet_name_subte)"
   ]
  },
  {
   "cell_type": "code",
   "execution_count": 187,
   "id": "779ceed8",
   "metadata": {},
   "outputs": [
    {
     "data": {
      "text/plain": [
       "'-77 %'"
      ]
     },
     "execution_count": 187,
     "metadata": {},
     "output_type": "execute_result"
    }
   ],
   "source": [
    "subte_enero = df_subte.loc[ df_subte.MES == 1, ['TOTAL']].iloc[0,0]\n",
    "subte_diciembre = df_subte.loc[ df_subte.MES == 12, ['TOTAL']].iloc[0,0]\n",
    "subte_diciembre_enero = int(((subte_diciembre - subte_enero)/subte_enero)*100)\n",
    "if subte_diciembre_enero > 100:\n",
    "    subte_diciembre_enero = '+' + str(subte_diciembre_enero) + ' %'\n",
    "else:\n",
    "    if subte_diciembre_enero == 100:\n",
    "        subte_diciembre_enero = \"Sin Cambios\"\n",
    "    else:\n",
    "        subte_diciembre_enero = str(subte_diciembre_enero) + ' %'\n",
    "subte_diciembre_enero"
   ]
  },
  {
   "cell_type": "code",
   "execution_count": 50,
   "id": "a02c3955",
   "metadata": {},
   "outputs": [],
   "source": [
    "df_vehiculos = pd.read_excel(input_file_name_vehiculos, sheet_name = input_sheet_name_vehiculos)"
   ]
  },
  {
   "cell_type": "code",
   "execution_count": 188,
   "id": "a8ee6138",
   "metadata": {},
   "outputs": [
    {
     "data": {
      "text/plain": [
       "'-10 %'"
      ]
     },
     "execution_count": 188,
     "metadata": {},
     "output_type": "execute_result"
    }
   ],
   "source": [
    "vehiculos_enero = df_vehiculos.loc[ df_vehiculos.MES == 1, ['TOTAL']].iloc[0,0]\n",
    "vehiculos_diciembre = df_vehiculos.loc[ df_vehiculos.MES == 12, ['TOTAL']].iloc[0,0]\n",
    "vehiculos_diciembre_enero = int(((vehiculos_diciembre - vehiculos_enero)/vehiculos_enero)*100)\n",
    "if vehiculos_diciembre_enero > 100:\n",
    "    vehiculos_diciembre_enero = '+' + str(vehiculos_diciembre_enero) + ' %'\n",
    "else:\n",
    "    if vehiculos_diciembre_enero == 100:\n",
    "        vehiculos_diciembre_enero = \"Sin Cambios\"\n",
    "    else:\n",
    "        vehiculos_diciembre_enero = str(vehiculos_diciembre_enero) + ' %'\n",
    "vehiculos_diciembre_enero"
   ]
  },
  {
   "cell_type": "code",
   "execution_count": 259,
   "id": "46aa319e",
   "metadata": {},
   "outputs": [
    {
     "data": {
      "text/html": [
       "<div>\n",
       "<style scoped>\n",
       "    .dataframe tbody tr th:only-of-type {\n",
       "        vertical-align: middle;\n",
       "    }\n",
       "\n",
       "    .dataframe tbody tr th {\n",
       "        vertical-align: top;\n",
       "    }\n",
       "\n",
       "    .dataframe thead th {\n",
       "        text-align: right;\n",
       "    }\n",
       "</style>\n",
       "<table border=\"1\" class=\"dataframe\">\n",
       "  <thead>\n",
       "    <tr style=\"text-align: right;\">\n",
       "      <th></th>\n",
       "      <th>AÑO</th>\n",
       "      <th>MES</th>\n",
       "      <th>TIPO</th>\n",
       "      <th>TOTAL</th>\n",
       "    </tr>\n",
       "  </thead>\n",
       "  <tbody>\n",
       "    <tr>\n",
       "      <th>0</th>\n",
       "      <td>2020</td>\n",
       "      <td>1</td>\n",
       "      <td>BICICLETAS</td>\n",
       "      <td>5</td>\n",
       "    </tr>\n",
       "    <tr>\n",
       "      <th>1</th>\n",
       "      <td>2020</td>\n",
       "      <td>2</td>\n",
       "      <td>BICICLETAS</td>\n",
       "      <td>4</td>\n",
       "    </tr>\n",
       "    <tr>\n",
       "      <th>2</th>\n",
       "      <td>2020</td>\n",
       "      <td>3</td>\n",
       "      <td>BICICLETAS</td>\n",
       "      <td>2</td>\n",
       "    </tr>\n",
       "    <tr>\n",
       "      <th>3</th>\n",
       "      <td>2020</td>\n",
       "      <td>4</td>\n",
       "      <td>BICICLETAS</td>\n",
       "      <td>1</td>\n",
       "    </tr>\n",
       "    <tr>\n",
       "      <th>4</th>\n",
       "      <td>2020</td>\n",
       "      <td>5</td>\n",
       "      <td>BICICLETAS</td>\n",
       "      <td>1</td>\n",
       "    </tr>\n",
       "  </tbody>\n",
       "</table>\n",
       "</div>"
      ],
      "text/plain": [
       "    AÑO  MES        TIPO  TOTAL\n",
       "0  2020    1  BICICLETAS      5\n",
       "1  2020    2  BICICLETAS      4\n",
       "2  2020    3  BICICLETAS      2\n",
       "3  2020    4  BICICLETAS      1\n",
       "4  2020    5  BICICLETAS      1"
      ]
     },
     "execution_count": 259,
     "metadata": {},
     "output_type": "execute_result"
    }
   ],
   "source": [
    "df = pd.concat([df_bicicletas,df_covid,df_subte,df_vehiculos])\n",
    "df.head()"
   ]
  },
  {
   "cell_type": "code",
   "execution_count": 260,
   "id": "31cc546a",
   "metadata": {},
   "outputs": [],
   "source": [
    "df['TIPO'] = np.where(df['TIPO'] == 'BICICLETAS', 'Bicicletas ' + bicicletas_diciembre_enero, np.where(df['TIPO'] == 'COVID', 'Casos de Covid ' + covid_diciembre_enero, np.where(df['TIPO'] == 'SUBTE', 'Subte ' + subte_diciembre_enero, np.where(df['TIPO'] == 'VEHICULOS', 'Vehículos ' + vehiculos_diciembre_enero, ''))))"
   ]
  },
  {
   "cell_type": "code",
   "execution_count": 264,
   "id": "f3f8efb3",
   "metadata": {},
   "outputs": [
    {
     "data": {
      "text/html": [
       "<div>\n",
       "<style scoped>\n",
       "    .dataframe tbody tr th:only-of-type {\n",
       "        vertical-align: middle;\n",
       "    }\n",
       "\n",
       "    .dataframe tbody tr th {\n",
       "        vertical-align: top;\n",
       "    }\n",
       "\n",
       "    .dataframe thead th {\n",
       "        text-align: right;\n",
       "    }\n",
       "</style>\n",
       "<table border=\"1\" class=\"dataframe\">\n",
       "  <thead>\n",
       "    <tr style=\"text-align: right;\">\n",
       "      <th></th>\n",
       "      <th>AÑO</th>\n",
       "      <th>MES</th>\n",
       "      <th>Diciembre Vs Enero</th>\n",
       "      <th>TOTAL</th>\n",
       "    </tr>\n",
       "  </thead>\n",
       "  <tbody>\n",
       "    <tr>\n",
       "      <th>0</th>\n",
       "      <td>2020</td>\n",
       "      <td>1</td>\n",
       "      <td>Bicicletas +100 %</td>\n",
       "      <td>5</td>\n",
       "    </tr>\n",
       "    <tr>\n",
       "      <th>1</th>\n",
       "      <td>2020</td>\n",
       "      <td>2</td>\n",
       "      <td>Bicicletas +100 %</td>\n",
       "      <td>4</td>\n",
       "    </tr>\n",
       "    <tr>\n",
       "      <th>2</th>\n",
       "      <td>2020</td>\n",
       "      <td>3</td>\n",
       "      <td>Bicicletas +100 %</td>\n",
       "      <td>2</td>\n",
       "    </tr>\n",
       "    <tr>\n",
       "      <th>3</th>\n",
       "      <td>2020</td>\n",
       "      <td>4</td>\n",
       "      <td>Bicicletas +100 %</td>\n",
       "      <td>1</td>\n",
       "    </tr>\n",
       "    <tr>\n",
       "      <th>4</th>\n",
       "      <td>2020</td>\n",
       "      <td>5</td>\n",
       "      <td>Bicicletas +100 %</td>\n",
       "      <td>1</td>\n",
       "    </tr>\n",
       "    <tr>\n",
       "      <th>5</th>\n",
       "      <td>2020</td>\n",
       "      <td>6</td>\n",
       "      <td>Bicicletas +100 %</td>\n",
       "      <td>3</td>\n",
       "    </tr>\n",
       "    <tr>\n",
       "      <th>6</th>\n",
       "      <td>2020</td>\n",
       "      <td>7</td>\n",
       "      <td>Bicicletas +100 %</td>\n",
       "      <td>3</td>\n",
       "    </tr>\n",
       "    <tr>\n",
       "      <th>7</th>\n",
       "      <td>2020</td>\n",
       "      <td>8</td>\n",
       "      <td>Bicicletas +100 %</td>\n",
       "      <td>8</td>\n",
       "    </tr>\n",
       "    <tr>\n",
       "      <th>8</th>\n",
       "      <td>2020</td>\n",
       "      <td>9</td>\n",
       "      <td>Bicicletas +100 %</td>\n",
       "      <td>9</td>\n",
       "    </tr>\n",
       "    <tr>\n",
       "      <th>9</th>\n",
       "      <td>2020</td>\n",
       "      <td>10</td>\n",
       "      <td>Bicicletas +100 %</td>\n",
       "      <td>10</td>\n",
       "    </tr>\n",
       "    <tr>\n",
       "      <th>10</th>\n",
       "      <td>2020</td>\n",
       "      <td>11</td>\n",
       "      <td>Bicicletas +100 %</td>\n",
       "      <td>10</td>\n",
       "    </tr>\n",
       "    <tr>\n",
       "      <th>11</th>\n",
       "      <td>2020</td>\n",
       "      <td>12</td>\n",
       "      <td>Bicicletas +100 %</td>\n",
       "      <td>10</td>\n",
       "    </tr>\n",
       "    <tr>\n",
       "      <th>0</th>\n",
       "      <td>2020</td>\n",
       "      <td>1</td>\n",
       "      <td>Casos de Covid +900 %</td>\n",
       "      <td>1</td>\n",
       "    </tr>\n",
       "    <tr>\n",
       "      <th>1</th>\n",
       "      <td>2020</td>\n",
       "      <td>2</td>\n",
       "      <td>Casos de Covid +900 %</td>\n",
       "      <td>1</td>\n",
       "    </tr>\n",
       "    <tr>\n",
       "      <th>2</th>\n",
       "      <td>2020</td>\n",
       "      <td>3</td>\n",
       "      <td>Casos de Covid +900 %</td>\n",
       "      <td>1</td>\n",
       "    </tr>\n",
       "    <tr>\n",
       "      <th>3</th>\n",
       "      <td>2020</td>\n",
       "      <td>4</td>\n",
       "      <td>Casos de Covid +900 %</td>\n",
       "      <td>1</td>\n",
       "    </tr>\n",
       "    <tr>\n",
       "      <th>4</th>\n",
       "      <td>2020</td>\n",
       "      <td>5</td>\n",
       "      <td>Casos de Covid +900 %</td>\n",
       "      <td>2</td>\n",
       "    </tr>\n",
       "    <tr>\n",
       "      <th>5</th>\n",
       "      <td>2020</td>\n",
       "      <td>6</td>\n",
       "      <td>Casos de Covid +900 %</td>\n",
       "      <td>4</td>\n",
       "    </tr>\n",
       "    <tr>\n",
       "      <th>6</th>\n",
       "      <td>2020</td>\n",
       "      <td>7</td>\n",
       "      <td>Casos de Covid +900 %</td>\n",
       "      <td>7</td>\n",
       "    </tr>\n",
       "    <tr>\n",
       "      <th>7</th>\n",
       "      <td>2020</td>\n",
       "      <td>8</td>\n",
       "      <td>Casos de Covid +900 %</td>\n",
       "      <td>9</td>\n",
       "    </tr>\n",
       "    <tr>\n",
       "      <th>8</th>\n",
       "      <td>2020</td>\n",
       "      <td>9</td>\n",
       "      <td>Casos de Covid +900 %</td>\n",
       "      <td>8</td>\n",
       "    </tr>\n",
       "    <tr>\n",
       "      <th>9</th>\n",
       "      <td>2020</td>\n",
       "      <td>10</td>\n",
       "      <td>Casos de Covid +900 %</td>\n",
       "      <td>8</td>\n",
       "    </tr>\n",
       "    <tr>\n",
       "      <th>10</th>\n",
       "      <td>2020</td>\n",
       "      <td>11</td>\n",
       "      <td>Casos de Covid +900 %</td>\n",
       "      <td>7</td>\n",
       "    </tr>\n",
       "    <tr>\n",
       "      <th>11</th>\n",
       "      <td>2020</td>\n",
       "      <td>12</td>\n",
       "      <td>Casos de Covid +900 %</td>\n",
       "      <td>10</td>\n",
       "    </tr>\n",
       "    <tr>\n",
       "      <th>0</th>\n",
       "      <td>2020</td>\n",
       "      <td>1</td>\n",
       "      <td>Subte -77 %</td>\n",
       "      <td>9</td>\n",
       "    </tr>\n",
       "    <tr>\n",
       "      <th>1</th>\n",
       "      <td>2020</td>\n",
       "      <td>2</td>\n",
       "      <td>Subte -77 %</td>\n",
       "      <td>9</td>\n",
       "    </tr>\n",
       "    <tr>\n",
       "      <th>2</th>\n",
       "      <td>2020</td>\n",
       "      <td>3</td>\n",
       "      <td>Subte -77 %</td>\n",
       "      <td>10</td>\n",
       "    </tr>\n",
       "    <tr>\n",
       "      <th>3</th>\n",
       "      <td>2020</td>\n",
       "      <td>4</td>\n",
       "      <td>Subte -77 %</td>\n",
       "      <td>1</td>\n",
       "    </tr>\n",
       "    <tr>\n",
       "      <th>4</th>\n",
       "      <td>2020</td>\n",
       "      <td>5</td>\n",
       "      <td>Subte -77 %</td>\n",
       "      <td>1</td>\n",
       "    </tr>\n",
       "    <tr>\n",
       "      <th>5</th>\n",
       "      <td>2020</td>\n",
       "      <td>6</td>\n",
       "      <td>Subte -77 %</td>\n",
       "      <td>1</td>\n",
       "    </tr>\n",
       "    <tr>\n",
       "      <th>6</th>\n",
       "      <td>2020</td>\n",
       "      <td>7</td>\n",
       "      <td>Subte -77 %</td>\n",
       "      <td>1</td>\n",
       "    </tr>\n",
       "    <tr>\n",
       "      <th>7</th>\n",
       "      <td>2020</td>\n",
       "      <td>8</td>\n",
       "      <td>Subte -77 %</td>\n",
       "      <td>1</td>\n",
       "    </tr>\n",
       "    <tr>\n",
       "      <th>8</th>\n",
       "      <td>2020</td>\n",
       "      <td>9</td>\n",
       "      <td>Subte -77 %</td>\n",
       "      <td>1</td>\n",
       "    </tr>\n",
       "    <tr>\n",
       "      <th>9</th>\n",
       "      <td>2020</td>\n",
       "      <td>10</td>\n",
       "      <td>Subte -77 %</td>\n",
       "      <td>2</td>\n",
       "    </tr>\n",
       "    <tr>\n",
       "      <th>10</th>\n",
       "      <td>2020</td>\n",
       "      <td>11</td>\n",
       "      <td>Subte -77 %</td>\n",
       "      <td>1</td>\n",
       "    </tr>\n",
       "    <tr>\n",
       "      <th>11</th>\n",
       "      <td>2020</td>\n",
       "      <td>12</td>\n",
       "      <td>Subte -77 %</td>\n",
       "      <td>2</td>\n",
       "    </tr>\n",
       "    <tr>\n",
       "      <th>0</th>\n",
       "      <td>2020</td>\n",
       "      <td>1</td>\n",
       "      <td>Vehículos -10 %</td>\n",
       "      <td>10</td>\n",
       "    </tr>\n",
       "    <tr>\n",
       "      <th>1</th>\n",
       "      <td>2020</td>\n",
       "      <td>2</td>\n",
       "      <td>Vehículos -10 %</td>\n",
       "      <td>9</td>\n",
       "    </tr>\n",
       "    <tr>\n",
       "      <th>2</th>\n",
       "      <td>2020</td>\n",
       "      <td>3</td>\n",
       "      <td>Vehículos -10 %</td>\n",
       "      <td>6</td>\n",
       "    </tr>\n",
       "    <tr>\n",
       "      <th>3</th>\n",
       "      <td>2020</td>\n",
       "      <td>4</td>\n",
       "      <td>Vehículos -10 %</td>\n",
       "      <td>1</td>\n",
       "    </tr>\n",
       "    <tr>\n",
       "      <th>4</th>\n",
       "      <td>2020</td>\n",
       "      <td>5</td>\n",
       "      <td>Vehículos -10 %</td>\n",
       "      <td>3</td>\n",
       "    </tr>\n",
       "    <tr>\n",
       "      <th>5</th>\n",
       "      <td>2020</td>\n",
       "      <td>6</td>\n",
       "      <td>Vehículos -10 %</td>\n",
       "      <td>7</td>\n",
       "    </tr>\n",
       "    <tr>\n",
       "      <th>6</th>\n",
       "      <td>2020</td>\n",
       "      <td>7</td>\n",
       "      <td>Vehículos -10 %</td>\n",
       "      <td>7</td>\n",
       "    </tr>\n",
       "    <tr>\n",
       "      <th>7</th>\n",
       "      <td>2020</td>\n",
       "      <td>8</td>\n",
       "      <td>Vehículos -10 %</td>\n",
       "      <td>7</td>\n",
       "    </tr>\n",
       "    <tr>\n",
       "      <th>8</th>\n",
       "      <td>2020</td>\n",
       "      <td>9</td>\n",
       "      <td>Vehículos -10 %</td>\n",
       "      <td>8</td>\n",
       "    </tr>\n",
       "    <tr>\n",
       "      <th>9</th>\n",
       "      <td>2020</td>\n",
       "      <td>10</td>\n",
       "      <td>Vehículos -10 %</td>\n",
       "      <td>8</td>\n",
       "    </tr>\n",
       "    <tr>\n",
       "      <th>10</th>\n",
       "      <td>2020</td>\n",
       "      <td>11</td>\n",
       "      <td>Vehículos -10 %</td>\n",
       "      <td>8</td>\n",
       "    </tr>\n",
       "    <tr>\n",
       "      <th>11</th>\n",
       "      <td>2020</td>\n",
       "      <td>12</td>\n",
       "      <td>Vehículos -10 %</td>\n",
       "      <td>9</td>\n",
       "    </tr>\n",
       "  </tbody>\n",
       "</table>\n",
       "</div>"
      ],
      "text/plain": [
       "     AÑO  MES     Diciembre Vs Enero  TOTAL\n",
       "0   2020    1      Bicicletas +100 %      5\n",
       "1   2020    2      Bicicletas +100 %      4\n",
       "2   2020    3      Bicicletas +100 %      2\n",
       "3   2020    4      Bicicletas +100 %      1\n",
       "4   2020    5      Bicicletas +100 %      1\n",
       "5   2020    6      Bicicletas +100 %      3\n",
       "6   2020    7      Bicicletas +100 %      3\n",
       "7   2020    8      Bicicletas +100 %      8\n",
       "8   2020    9      Bicicletas +100 %      9\n",
       "9   2020   10      Bicicletas +100 %     10\n",
       "10  2020   11      Bicicletas +100 %     10\n",
       "11  2020   12      Bicicletas +100 %     10\n",
       "0   2020    1  Casos de Covid +900 %      1\n",
       "1   2020    2  Casos de Covid +900 %      1\n",
       "2   2020    3  Casos de Covid +900 %      1\n",
       "3   2020    4  Casos de Covid +900 %      1\n",
       "4   2020    5  Casos de Covid +900 %      2\n",
       "5   2020    6  Casos de Covid +900 %      4\n",
       "6   2020    7  Casos de Covid +900 %      7\n",
       "7   2020    8  Casos de Covid +900 %      9\n",
       "8   2020    9  Casos de Covid +900 %      8\n",
       "9   2020   10  Casos de Covid +900 %      8\n",
       "10  2020   11  Casos de Covid +900 %      7\n",
       "11  2020   12  Casos de Covid +900 %     10\n",
       "0   2020    1            Subte -77 %      9\n",
       "1   2020    2            Subte -77 %      9\n",
       "2   2020    3            Subte -77 %     10\n",
       "3   2020    4            Subte -77 %      1\n",
       "4   2020    5            Subte -77 %      1\n",
       "5   2020    6            Subte -77 %      1\n",
       "6   2020    7            Subte -77 %      1\n",
       "7   2020    8            Subte -77 %      1\n",
       "8   2020    9            Subte -77 %      1\n",
       "9   2020   10            Subte -77 %      2\n",
       "10  2020   11            Subte -77 %      1\n",
       "11  2020   12            Subte -77 %      2\n",
       "0   2020    1        Vehículos -10 %     10\n",
       "1   2020    2        Vehículos -10 %      9\n",
       "2   2020    3        Vehículos -10 %      6\n",
       "3   2020    4        Vehículos -10 %      1\n",
       "4   2020    5        Vehículos -10 %      3\n",
       "5   2020    6        Vehículos -10 %      7\n",
       "6   2020    7        Vehículos -10 %      7\n",
       "7   2020    8        Vehículos -10 %      7\n",
       "8   2020    9        Vehículos -10 %      8\n",
       "9   2020   10        Vehículos -10 %      8\n",
       "10  2020   11        Vehículos -10 %      8\n",
       "11  2020   12        Vehículos -10 %      9"
      ]
     },
     "execution_count": 264,
     "metadata": {},
     "output_type": "execute_result"
    }
   ],
   "source": [
    "df = df.rename(columns={\"TIPO\" : \"Diciembre Vs Enero\"})\n",
    "df"
   ]
  },
  {
   "cell_type": "code",
   "execution_count": 189,
   "id": "ae2bdfae",
   "metadata": {},
   "outputs": [
    {
     "data": {
      "image/png": "[encoded data removed]",
      "text/plain": [
       "<Figure size 720x360 with 1 Axes>"
      ]
     },
     "metadata": {
      "needs_background": "light"
     },
     "output_type": "display_data"
    }
   ],
   "source": [
    "plt.figure(figsize=(10,5))\n",
    "s = sns.barplot(data = df_covid,\n",
    "            x = 'MES',\n",
    "            y = 'TOTAL')\n",
    "for p in s.patches:\n",
    "    s.annotate(int(p.get_height()), \n",
    "                   (p.get_x() + p.get_width() / 2., p.get_height()), \n",
    "                   ha = 'center', va = 'center', \n",
    "                   size=10,\n",
    "                   xytext = (0, 9), \n",
    "                   textcoords = 'offset points')\n",
    "plt.title(\"Casos de Covid 2020 (\" + covid_diciembre_enero + \")\", fontsize = 20)\n",
    "plt.xlabel('Mes')\n",
    "plt.ylabel('Proporción')\n",
    "plt.show()"
   ]
  },
  {
   "cell_type": "code",
   "execution_count": 207,
   "id": "508ee636",
   "metadata": {},
   "outputs": [
    {
     "data": {
      "image/png": "[encoded data removed]",
      "text/plain": [
       "<Figure size 720x360 with 1 Axes>"
      ]
     },
     "metadata": {
      "needs_background": "light"
     },
     "output_type": "display_data"
    }
   ],
   "source": [
    "plt.figure(figsize=(10,5))\n",
    "s = sns.barplot(data = df_bicicletas,\n",
    "            x = 'MES',\n",
    "            y = 'TOTAL')\n",
    "for p in s.patches:\n",
    "    s.annotate(int(p.get_height()), \n",
    "                   (p.get_x() + p.get_width() / 2., p.get_height()), \n",
    "                   ha = 'center', va = 'center', \n",
    "                   size=10,\n",
    "                   xytext = (0, 9), \n",
    "                   textcoords = 'offset points')\n",
    "plt.title(\"Viajes en Bicicleta 2020 (\" + bicicletas_diciembre_enero + \")\", fontsize = 20)\n",
    "plt.xlabel('Mes')\n",
    "plt.ylabel('Proporción')\n",
    "plt.show()"
   ]
  },
  {
   "cell_type": "code",
   "execution_count": 191,
   "id": "31560992",
   "metadata": {},
   "outputs": [
    {
     "data": {
      "image/png": "[encoded data removed]",
      "text/plain": [
       "<Figure size 720x360 with 1 Axes>"
      ]
     },
     "metadata": {
      "needs_background": "light"
     },
     "output_type": "display_data"
    }
   ],
   "source": [
    "plt.figure(figsize=(10,5))\n",
    "s = sns.barplot(data = df_subte,\n",
    "            x = 'MES',\n",
    "            y = 'TOTAL')\n",
    "for p in s.patches:\n",
    "    s.annotate(int(p.get_height()), \n",
    "                   (p.get_x() + p.get_width() / 2., p.get_height()), \n",
    "                   ha = 'center', va = 'center', \n",
    "                   size=10,\n",
    "                   xytext = (0, 9), \n",
    "                   textcoords = 'offset points')\n",
    "plt.title(\"Viajes en Subte 2020 (\" + subte_diciembre_enero + \")\", fontsize = 20)\n",
    "plt.xlabel('Mes')\n",
    "plt.ylabel('Proporción')\n",
    "plt.show()"
   ]
  },
  {
   "cell_type": "code",
   "execution_count": 245,
   "id": "050c8659",
   "metadata": {},
   "outputs": [
    {
     "data": {
      "image/png": "[encoded data removed]",
      "text/plain": [
       "<Figure size 720x360 with 1 Axes>"
      ]
     },
     "metadata": {
      "needs_background": "light"
     },
     "output_type": "display_data"
    }
   ],
   "source": [
    "plt.figure(figsize=(10,5))\n",
    "s = sns.barplot(data = df_vehiculos,\n",
    "            x = 'MES',\n",
    "            y = 'TOTAL')\n",
    "for p in s.patches:\n",
    "    s.annotate(int(p.get_height()), \n",
    "                   (p.get_x() + p.get_width() / 2., p.get_height()), \n",
    "                   ha = 'center', va = 'center', \n",
    "                   size=10,\n",
    "                   xytext = (0, 9), \n",
    "                   textcoords = 'offset points')\n",
    "plt.title(\"Viajes en Vehículos 2020 (\" + vehiculos_diciembre_enero + \")\", fontsize = 20)\n",
    "plt.xlabel('Mes')\n",
    "plt.ylabel('Proporción')\n",
    "plt.show()"
   ]
  },
  {
   "cell_type": "code",
   "execution_count": 266,
   "id": "96b73a38",
   "metadata": {},
   "outputs": [
    {
     "data": {
      "image/png": "[encoded data removed]",
      "text/plain": [
       "<Figure size 720x360 with 1 Axes>"
      ]
     },
     "metadata": {
      "needs_background": "light"
     },
     "output_type": "display_data"
    }
   ],
   "source": [
    "plt.figure(figsize=(10,5))\n",
    "b = sns.lineplot(data = df,\n",
    "            x = 'MES',\n",
    "            y = 'TOTAL',\n",
    "            hue = 'Diciembre Vs Enero',\n",
    "            hue_order = ['Casos de Covid ' +  covid_diciembre_enero,'Bicicletas ' + bicicletas_diciembre_enero,'Subte ' + subte_diciembre_enero,'Vehículos ' + vehiculos_diciembre_enero],\n",
    "            style = 'Diciembre Vs Enero',\n",
    "            markers=True,\n",
    "            dashes=True\n",
    "            )\n",
    "plt.title(\"Covid Vs Transporte 2020\", fontsize = 20)\n",
    "plt.xlabel('Mes')\n",
    "plt.ylabel('Proporción')\n",
    "plt.show()"
   ]
  }
 ],
 "metadata": {
  "interpreter": {
   "hash": "eac14dce34f2fea3ce43d9da55955520a6b2e9da2e546cd680d80c9940fbf1cf"
  },
  "kernelspec": {
   "display_name": "Python 3",
   "language": "python",
   "name": "python3"
  },
  "language_info": {
   "codemirror_mode": {
    "name": "ipython",
    "version": 3
   },
   "file_extension": ".py",
   "mimetype": "text/x-python",
   "name": "python",
   "nbconvert_exporter": "python",
   "pygments_lexer": "ipython3",
   "version": "3.8.8"
  }
 },
 "nbformat": 4,
 "nbformat_minor": 5
}
