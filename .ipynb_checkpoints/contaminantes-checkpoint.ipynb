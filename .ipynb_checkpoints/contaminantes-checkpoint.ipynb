{
 "cells": [
  {
   "cell_type": "code",
   "execution_count": 214,
   "id": "7f5372a8",
   "metadata": {},
   "outputs": [],
   "source": [
    "import pandas as pd"
   ]
  },
  {
   "cell_type": "code",
   "execution_count": 215,
   "id": "85837449",
   "metadata": {},
   "outputs": [],
   "source": [
    "#https://cdn.buenosaires.gob.ar/datosabiertos/datasets/agencia-de-proteccion-ambiental/calidad-aire/calidad-aire.csv\n",
    "input_file_name = 'contaminantes.csv'"
   ]
  },
  {
   "cell_type": "code",
   "execution_count": 216,
   "id": "683e882d",
   "metadata": {},
   "outputs": [],
   "source": [
    "output_file_name = \"contaminantes.xlsx\"\n",
    "output_sheet_name = \"contaminantes\""
   ]
  },
  {
   "cell_type": "code",
   "execution_count": 217,
   "id": "a6098939",
   "metadata": {},
   "outputs": [],
   "source": [
    "df_contaminantes = pd.read_csv(input_file_name)"
   ]
  },
  {
   "cell_type": "code",
   "execution_count": 218,
   "id": "798f29c3",
   "metadata": {},
   "outputs": [
    {
     "data": {
      "text/html": [
       "<div>\n",
       "<style scoped>\n",
       "    .dataframe tbody tr th:only-of-type {\n",
       "        vertical-align: middle;\n",
       "    }\n",
       "\n",
       "    .dataframe tbody tr th {\n",
       "        vertical-align: top;\n",
       "    }\n",
       "\n",
       "    .dataframe thead th {\n",
       "        text-align: right;\n",
       "    }\n",
       "</style>\n",
       "<table border=\"1\" class=\"dataframe\">\n",
       "  <thead>\n",
       "    <tr style=\"text-align: right;\">\n",
       "      <th></th>\n",
       "      <th>FECHA</th>\n",
       "      <th>HORA</th>\n",
       "      <th>CO_CENTENARIO</th>\n",
       "      <th>NO2_CENTENARIO</th>\n",
       "      <th>PM10_CENTENARIO</th>\n",
       "      <th>CO_CORDOBA</th>\n",
       "      <th>NO2_CORDOBA</th>\n",
       "      <th>PM10_CORDOBA</th>\n",
       "      <th>CO_LA_BOCA</th>\n",
       "      <th>NO2_LA_BOCA</th>\n",
       "      <th>PM10_LA_BOCA</th>\n",
       "      <th>CO_PALERMO</th>\n",
       "      <th>NO2_PALERMO</th>\n",
       "      <th>PM10_PALERMO</th>\n",
       "    </tr>\n",
       "  </thead>\n",
       "  <tbody>\n",
       "    <tr>\n",
       "      <th>0</th>\n",
       "      <td>05NOV2010:00:00:00</td>\n",
       "      <td>11</td>\n",
       "      <td>s/d</td>\n",
       "      <td>22</td>\n",
       "      <td>NaN</td>\n",
       "      <td>0.64</td>\n",
       "      <td>s/d</td>\n",
       "      <td>NaN</td>\n",
       "      <td>0.22</td>\n",
       "      <td>18</td>\n",
       "      <td>NaN</td>\n",
       "      <td>NaN</td>\n",
       "      <td>NaN</td>\n",
       "      <td>NaN</td>\n",
       "    </tr>\n",
       "    <tr>\n",
       "      <th>1</th>\n",
       "      <td>01SEP2010:00:00:00</td>\n",
       "      <td>15</td>\n",
       "      <td>s/d</td>\n",
       "      <td>20</td>\n",
       "      <td>NaN</td>\n",
       "      <td>1.65</td>\n",
       "      <td>s/d</td>\n",
       "      <td>NaN</td>\n",
       "      <td>&lt;0.05</td>\n",
       "      <td>12</td>\n",
       "      <td>NaN</td>\n",
       "      <td>NaN</td>\n",
       "      <td>NaN</td>\n",
       "      <td>NaN</td>\n",
       "    </tr>\n",
       "    <tr>\n",
       "      <th>2</th>\n",
       "      <td>01SEP2010:00:00:00</td>\n",
       "      <td>17</td>\n",
       "      <td>s/d</td>\n",
       "      <td>19</td>\n",
       "      <td>NaN</td>\n",
       "      <td>1.99</td>\n",
       "      <td>s/d</td>\n",
       "      <td>NaN</td>\n",
       "      <td>&lt;0.05</td>\n",
       "      <td>12</td>\n",
       "      <td>NaN</td>\n",
       "      <td>NaN</td>\n",
       "      <td>NaN</td>\n",
       "      <td>NaN</td>\n",
       "    </tr>\n",
       "    <tr>\n",
       "      <th>3</th>\n",
       "      <td>01SEP2010:00:00:00</td>\n",
       "      <td>24</td>\n",
       "      <td>s/d</td>\n",
       "      <td>16</td>\n",
       "      <td>NaN</td>\n",
       "      <td>1.65</td>\n",
       "      <td>s/d</td>\n",
       "      <td>NaN</td>\n",
       "      <td>&lt;0.05</td>\n",
       "      <td>12</td>\n",
       "      <td>NaN</td>\n",
       "      <td>NaN</td>\n",
       "      <td>NaN</td>\n",
       "      <td>NaN</td>\n",
       "    </tr>\n",
       "    <tr>\n",
       "      <th>4</th>\n",
       "      <td>02SEP2010:00:00:00</td>\n",
       "      <td>5</td>\n",
       "      <td>s/d</td>\n",
       "      <td>12</td>\n",
       "      <td>NaN</td>\n",
       "      <td>0.41</td>\n",
       "      <td>s/d</td>\n",
       "      <td>NaN</td>\n",
       "      <td>&lt;0.05</td>\n",
       "      <td>7</td>\n",
       "      <td>NaN</td>\n",
       "      <td>NaN</td>\n",
       "      <td>NaN</td>\n",
       "      <td>NaN</td>\n",
       "    </tr>\n",
       "  </tbody>\n",
       "</table>\n",
       "</div>"
      ],
      "text/plain": [
       "                FECHA  HORA CO_CENTENARIO NO2_CENTENARIO PM10_CENTENARIO  \\\n",
       "0  05NOV2010:00:00:00    11           s/d             22             NaN   \n",
       "1  01SEP2010:00:00:00    15           s/d             20             NaN   \n",
       "2  01SEP2010:00:00:00    17           s/d             19             NaN   \n",
       "3  01SEP2010:00:00:00    24           s/d             16             NaN   \n",
       "4  02SEP2010:00:00:00     5           s/d             12             NaN   \n",
       "\n",
       "  CO_CORDOBA NO2_CORDOBA PM10_CORDOBA CO_LA_BOCA NO2_LA_BOCA PM10_LA_BOCA  \\\n",
       "0       0.64         s/d          NaN       0.22          18          NaN   \n",
       "1       1.65         s/d          NaN      <0.05          12          NaN   \n",
       "2       1.99         s/d          NaN      <0.05          12          NaN   \n",
       "3       1.65         s/d          NaN      <0.05          12          NaN   \n",
       "4       0.41         s/d          NaN      <0.05           7          NaN   \n",
       "\n",
       "  CO_PALERMO  NO2_PALERMO  PM10_PALERMO  \n",
       "0        NaN          NaN           NaN  \n",
       "1        NaN          NaN           NaN  \n",
       "2        NaN          NaN           NaN  \n",
       "3        NaN          NaN           NaN  \n",
       "4        NaN          NaN           NaN  "
      ]
     },
     "execution_count": 218,
     "metadata": {},
     "output_type": "execute_result"
    }
   ],
   "source": [
    "df_contaminantes.head()"
   ]
  },
  {
   "cell_type": "code",
   "execution_count": 219,
   "id": "5fcb1b51",
   "metadata": {},
   "outputs": [
    {
     "data": {
      "text/plain": [
       "(104153, 14)"
      ]
     },
     "execution_count": 219,
     "metadata": {},
     "output_type": "execute_result"
    }
   ],
   "source": [
    "df_contaminantes.shape"
   ]
  },
  {
   "cell_type": "code",
   "execution_count": 220,
   "id": "1a9ad19e",
   "metadata": {},
   "outputs": [],
   "source": [
    "df_contaminantes['Año'] = [ i[5:9] for i in df_contaminantes['FECHA'] ]"
   ]
  },
  {
   "cell_type": "code",
   "execution_count": 221,
   "id": "6456f81e",
   "metadata": {},
   "outputs": [
    {
     "ename": "AttributeError",
     "evalue": "'DataFrame' object has no attribute 'AÑO'",
     "output_type": "error",
     "traceback": [
      "\u001b[0;31m---------------------------------------------------------------------------\u001b[0m",
      "\u001b[0;31mAttributeError\u001b[0m                            Traceback (most recent call last)",
      "\u001b[0;32m<ipython-input-221-82ca07c7b83e>\u001b[0m in \u001b[0;36m<module>\u001b[0;34m\u001b[0m\n\u001b[0;32m----> 1\u001b[0;31m \u001b[0mdf_contaminantes\u001b[0m \u001b[0;34m=\u001b[0m \u001b[0mdf_contaminantes\u001b[0m\u001b[0;34m.\u001b[0m\u001b[0mloc\u001b[0m\u001b[0;34m[\u001b[0m \u001b[0mdf_contaminantes\u001b[0m\u001b[0;34m.\u001b[0m\u001b[0mAÑO\u001b[0m \u001b[0;34m==\u001b[0m \u001b[0;34m'2020'\u001b[0m \u001b[0;34m]\u001b[0m\u001b[0;34m\u001b[0m\u001b[0;34m\u001b[0m\u001b[0m\n\u001b[0m",
      "\u001b[0;32m~/opt/anaconda3/lib/python3.8/site-packages/pandas/core/generic.py\u001b[0m in \u001b[0;36m__getattr__\u001b[0;34m(self, name)\u001b[0m\n\u001b[1;32m   5463\u001b[0m             \u001b[0;32mif\u001b[0m \u001b[0mself\u001b[0m\u001b[0;34m.\u001b[0m\u001b[0m_info_axis\u001b[0m\u001b[0;34m.\u001b[0m\u001b[0m_can_hold_identifiers_and_holds_name\u001b[0m\u001b[0;34m(\u001b[0m\u001b[0mname\u001b[0m\u001b[0;34m)\u001b[0m\u001b[0;34m:\u001b[0m\u001b[0;34m\u001b[0m\u001b[0;34m\u001b[0m\u001b[0m\n\u001b[1;32m   5464\u001b[0m                 \u001b[0;32mreturn\u001b[0m \u001b[0mself\u001b[0m\u001b[0;34m[\u001b[0m\u001b[0mname\u001b[0m\u001b[0;34m]\u001b[0m\u001b[0;34m\u001b[0m\u001b[0;34m\u001b[0m\u001b[0m\n\u001b[0;32m-> 5465\u001b[0;31m             \u001b[0;32mreturn\u001b[0m \u001b[0mobject\u001b[0m\u001b[0;34m.\u001b[0m\u001b[0m__getattribute__\u001b[0m\u001b[0;34m(\u001b[0m\u001b[0mself\u001b[0m\u001b[0;34m,\u001b[0m \u001b[0mname\u001b[0m\u001b[0;34m)\u001b[0m\u001b[0;34m\u001b[0m\u001b[0;34m\u001b[0m\u001b[0m\n\u001b[0m\u001b[1;32m   5466\u001b[0m \u001b[0;34m\u001b[0m\u001b[0m\n\u001b[1;32m   5467\u001b[0m     \u001b[0;32mdef\u001b[0m \u001b[0m__setattr__\u001b[0m\u001b[0;34m(\u001b[0m\u001b[0mself\u001b[0m\u001b[0;34m,\u001b[0m \u001b[0mname\u001b[0m\u001b[0;34m:\u001b[0m \u001b[0mstr\u001b[0m\u001b[0;34m,\u001b[0m \u001b[0mvalue\u001b[0m\u001b[0;34m)\u001b[0m \u001b[0;34m->\u001b[0m \u001b[0;32mNone\u001b[0m\u001b[0;34m:\u001b[0m\u001b[0;34m\u001b[0m\u001b[0;34m\u001b[0m\u001b[0m\n",
      "\u001b[0;31mAttributeError\u001b[0m: 'DataFrame' object has no attribute 'AÑO'"
     ]
    }
   ],
   "source": [
    "df_contaminantes = df_contaminantes.loc[ df_contaminantes.Año == '2020' ]"
   ]
  },
  {
   "cell_type": "code",
   "execution_count": null,
   "id": "71d0621a",
   "metadata": {},
   "outputs": [],
   "source": [
    "df_contaminantes['Mes'] = [ i[2:5] for i in df_contaminantes['FECHA'] ]"
   ]
  },
  {
   "cell_type": "code",
   "execution_count": null,
   "id": "73fa33fa",
   "metadata": {},
   "outputs": [],
   "source": [
    "MESES = { 'JAN' : '1', 'FEB' : '2', 'MAR' : '3', 'APR' : '4', 'MAY' : '5', 'JUN' : '6', 'JUL' : '7', 'AUG' : '8', 'SEP' : '9', 'OCT' : '10', 'NOV' : '11', 'DEC' : '12'}"
   ]
  },
  {
   "cell_type": "code",
   "execution_count": null,
   "id": "4af03dc3",
   "metadata": {},
   "outputs": [],
   "source": [
    "df_contaminantes[\"Mes\"] = df_contaminantes[\"Mes\"].map(MESES).astype(int)"
   ]
  },
  {
   "cell_type": "code",
   "execution_count": null,
   "id": "070824c6",
   "metadata": {},
   "outputs": [],
   "source": [
    "df_contaminantes['Tipo'] = 'Contaminantes'"
   ]
  },
  {
   "cell_type": "code",
   "execution_count": null,
   "id": "8f57874c",
   "metadata": {},
   "outputs": [],
   "source": [
    "df_contaminantes = df_contaminantes.dropna(subset=['PM10_CENTENARIO'])"
   ]
  },
  {
   "cell_type": "code",
   "execution_count": null,
   "id": "35b440ae",
   "metadata": {},
   "outputs": [],
   "source": [
    "df_contaminantes['PM10_CENTENARIO'] = df_contaminantes['PM10_CENTENARIO'].astype(int)"
   ]
  },
  {
   "cell_type": "code",
   "execution_count": null,
   "id": "f95e15fd",
   "metadata": {},
   "outputs": [],
   "source": [
    "df = df_contaminantes.groupby(['Año','Mes','Tipo'],as_index=False).mean()[['Año','Mes','Tipo','PM10_CENTENARIO']].rename({'PM10_CENTENARIO':'Total'},axis=1)\n",
    "df['Total'] = round(df['Total'],2)\n",
    "df"
   ]
  },
  {
   "cell_type": "code",
   "execution_count": null,
   "id": "e64bd959",
   "metadata": {},
   "outputs": [],
   "source": [
    "df['Intervalo']=pd.cut(df['Total'],10,labels=[1,2,3,4,5,6,7,8,9,10])\n",
    "df"
   ]
  },
  {
   "cell_type": "code",
   "execution_count": null,
   "id": "0becb897",
   "metadata": {},
   "outputs": [],
   "source": [
    "enero = df.loc[ df.Mes == 1, ['Intervalo']].iloc[0,0]\n",
    "diciembre = df.loc[ df.Mes == 12, ['Intervalo']].iloc[0,0]\n",
    "diciembre_enero = int(((diciembre - enero)/enero)*100)\n",
    "if diciembre_enero > 0:\n",
    "    diciembre_enero = '+' + str(diciembre_enero) + ' %'\n",
    "else:\n",
    "    diciembre_enero = str(diciembre_enero) + ' %'"
   ]
  },
  {
   "cell_type": "code",
   "execution_count": null,
   "id": "506987cc",
   "metadata": {},
   "outputs": [],
   "source": [
    "df['Diciembre Vs Enero'] = diciembre_enero\n",
    "df"
   ]
  },
  {
   "cell_type": "code",
   "execution_count": null,
   "id": "02f84ca4",
   "metadata": {},
   "outputs": [],
   "source": [
    "writer = pd.ExcelWriter(output_file_name, engine='xlsxwriter')\n",
    "\n",
    "df.to_excel(writer, index=False, sheet_name=output_sheet_name)\n",
    "\n",
    "workbook  = writer.book\n",
    "worksheet = writer.sheets[output_sheet_name]\n",
    "\n",
    "format = workbook.add_format()\n",
    "format.set_align('center')\n",
    "format.set_align('vcenter')\n",
    "\n",
    "worksheet.set_column('A:F', 30, format)\n",
    "\n",
    "writer.save()"
   ]
  }
 ],
 "metadata": {
  "kernelspec": {
   "display_name": "Python 3",
   "language": "python",
   "name": "python3"
  },
  "language_info": {
   "codemirror_mode": {
    "name": "ipython",
    "version": 3
   },
   "file_extension": ".py",
   "mimetype": "text/x-python",
   "name": "python",
   "nbconvert_exporter": "python",
   "pygments_lexer": "ipython3",
   "version": "3.8.8"
  }
 },
 "nbformat": 4,
 "nbformat_minor": 5
}
