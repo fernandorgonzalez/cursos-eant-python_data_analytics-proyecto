{
 "cells": [
  {
   "cell_type": "code",
   "execution_count": 42,
   "id": "63c237e5",
   "metadata": {},
   "outputs": [],
   "source": [
    "import pandas as pd"
   ]
  },
  {
   "cell_type": "code",
   "execution_count": 43,
   "id": "137a239e",
   "metadata": {},
   "outputs": [],
   "source": [
    "#https://sisa.msal.gov.ar/datos/descargas/covid-19/files/Covid19Casos.zip\n",
    "input_file_name = 'covid.csv'"
   ]
  },
  {
   "cell_type": "code",
   "execution_count": 44,
   "id": "40be8760",
   "metadata": {},
   "outputs": [],
   "source": [
    "output_file_name = \"covid.xlsx\"\n",
    "output_sheet_name = \"covid\""
   ]
  },
  {
   "cell_type": "code",
   "execution_count": 45,
   "id": "957bae7d",
   "metadata": {},
   "outputs": [
    {
     "name": "stderr",
     "output_type": "stream",
     "text": [
      "/Users/fernandogonzalez/opt/anaconda3/lib/python3.8/site-packages/IPython/core/interactiveshell.py:3165: DtypeWarning: Columns (10,11,13) have mixed types.Specify dtype option on import or set low_memory=False.\n",
      "  has_raised = await self.run_ast_nodes(code_ast.body, cell_name,\n"
     ]
    }
   ],
   "source": [
    "df_covid = pd.read_csv(input_file_name)"
   ]
  },
  {
   "cell_type": "code",
   "execution_count": 46,
   "id": "1c75fc0f",
   "metadata": {},
   "outputs": [
    {
     "data": {
      "text/html": [
       "<div>\n",
       "<style scoped>\n",
       "    .dataframe tbody tr th:only-of-type {\n",
       "        vertical-align: middle;\n",
       "    }\n",
       "\n",
       "    .dataframe tbody tr th {\n",
       "        vertical-align: top;\n",
       "    }\n",
       "\n",
       "    .dataframe thead th {\n",
       "        text-align: right;\n",
       "    }\n",
       "</style>\n",
       "<table border=\"1\" class=\"dataframe\">\n",
       "  <thead>\n",
       "    <tr style=\"text-align: right;\">\n",
       "      <th></th>\n",
       "      <th>numero_de_caso</th>\n",
       "      <th>fecha_apertura_snvs</th>\n",
       "      <th>fecha_toma_muestra</th>\n",
       "      <th>fecha_clasificacion</th>\n",
       "      <th>provincia</th>\n",
       "      <th>barrio</th>\n",
       "      <th>comuna</th>\n",
       "      <th>genero</th>\n",
       "      <th>edad</th>\n",
       "      <th>clasificacion</th>\n",
       "      <th>fecha_fallecimiento</th>\n",
       "      <th>fallecido</th>\n",
       "      <th>fecha_alta</th>\n",
       "      <th>tipo_contagio</th>\n",
       "    </tr>\n",
       "  </thead>\n",
       "  <tbody>\n",
       "    <tr>\n",
       "      <th>0</th>\n",
       "      <td>16349158</td>\n",
       "      <td>08JUL2021:00:00:00.000000</td>\n",
       "      <td>15JUL2021:00:00:00.000000</td>\n",
       "      <td>15JUL2021:00:00:00.000000</td>\n",
       "      <td>Buenos Aires</td>\n",
       "      <td>NaN</td>\n",
       "      <td>NaN</td>\n",
       "      <td>masculino</td>\n",
       "      <td>30.0</td>\n",
       "      <td>confirmado</td>\n",
       "      <td>NaN</td>\n",
       "      <td>NaN</td>\n",
       "      <td>NaN</td>\n",
       "      <td>Comunitario</td>\n",
       "    </tr>\n",
       "    <tr>\n",
       "      <th>1</th>\n",
       "      <td>16371068</td>\n",
       "      <td>08JUL2021:00:00:00.000000</td>\n",
       "      <td>08JUL2021:00:00:00.000000</td>\n",
       "      <td>08JUL2021:00:00:00.000000</td>\n",
       "      <td>CABA</td>\n",
       "      <td>VILLA DEVOTO</td>\n",
       "      <td>11.0</td>\n",
       "      <td>femenino</td>\n",
       "      <td>39.0</td>\n",
       "      <td>confirmado</td>\n",
       "      <td>NaN</td>\n",
       "      <td>NaN</td>\n",
       "      <td>NaN</td>\n",
       "      <td>Comunitario</td>\n",
       "    </tr>\n",
       "    <tr>\n",
       "      <th>2</th>\n",
       "      <td>16371077</td>\n",
       "      <td>08JUL2021:00:00:00.000000</td>\n",
       "      <td>08JUL2021:00:00:00.000000</td>\n",
       "      <td>08JUL2021:00:00:00.000000</td>\n",
       "      <td>Buenos Aires</td>\n",
       "      <td>NaN</td>\n",
       "      <td>NaN</td>\n",
       "      <td>femenino</td>\n",
       "      <td>28.0</td>\n",
       "      <td>confirmado</td>\n",
       "      <td>NaN</td>\n",
       "      <td>NaN</td>\n",
       "      <td>NaN</td>\n",
       "      <td>Comunitario</td>\n",
       "    </tr>\n",
       "    <tr>\n",
       "      <th>3</th>\n",
       "      <td>16371082</td>\n",
       "      <td>08JUL2021:00:00:00.000000</td>\n",
       "      <td>08JUL2021:00:00:00.000000</td>\n",
       "      <td>08JUL2021:00:00:00.000000</td>\n",
       "      <td>CABA</td>\n",
       "      <td>VILLA PUEYRREDON</td>\n",
       "      <td>12.0</td>\n",
       "      <td>femenino</td>\n",
       "      <td>31.0</td>\n",
       "      <td>confirmado</td>\n",
       "      <td>NaN</td>\n",
       "      <td>NaN</td>\n",
       "      <td>NaN</td>\n",
       "      <td>Comunitario</td>\n",
       "    </tr>\n",
       "    <tr>\n",
       "      <th>4</th>\n",
       "      <td>16371096</td>\n",
       "      <td>08JUL2021:00:00:00.000000</td>\n",
       "      <td>19JUL2021:00:00:00.000000</td>\n",
       "      <td>19JUL2021:00:00:00.000000</td>\n",
       "      <td>Buenos Aires</td>\n",
       "      <td>NaN</td>\n",
       "      <td>NaN</td>\n",
       "      <td>masculino</td>\n",
       "      <td>32.0</td>\n",
       "      <td>confirmado</td>\n",
       "      <td>NaN</td>\n",
       "      <td>NaN</td>\n",
       "      <td>NaN</td>\n",
       "      <td>Comunitario</td>\n",
       "    </tr>\n",
       "  </tbody>\n",
       "</table>\n",
       "</div>"
      ],
      "text/plain": [
       "   numero_de_caso        fecha_apertura_snvs         fecha_toma_muestra  \\\n",
       "0        16349158  08JUL2021:00:00:00.000000  15JUL2021:00:00:00.000000   \n",
       "1        16371068  08JUL2021:00:00:00.000000  08JUL2021:00:00:00.000000   \n",
       "2        16371077  08JUL2021:00:00:00.000000  08JUL2021:00:00:00.000000   \n",
       "3        16371082  08JUL2021:00:00:00.000000  08JUL2021:00:00:00.000000   \n",
       "4        16371096  08JUL2021:00:00:00.000000  19JUL2021:00:00:00.000000   \n",
       "\n",
       "         fecha_clasificacion     provincia            barrio  comuna  \\\n",
       "0  15JUL2021:00:00:00.000000  Buenos Aires               NaN     NaN   \n",
       "1  08JUL2021:00:00:00.000000          CABA      VILLA DEVOTO    11.0   \n",
       "2  08JUL2021:00:00:00.000000  Buenos Aires               NaN     NaN   \n",
       "3  08JUL2021:00:00:00.000000          CABA  VILLA PUEYRREDON    12.0   \n",
       "4  19JUL2021:00:00:00.000000  Buenos Aires               NaN     NaN   \n",
       "\n",
       "      genero  edad clasificacion fecha_fallecimiento fallecido fecha_alta  \\\n",
       "0  masculino  30.0    confirmado                 NaN       NaN        NaN   \n",
       "1   femenino  39.0    confirmado                 NaN       NaN        NaN   \n",
       "2   femenino  28.0    confirmado                 NaN       NaN        NaN   \n",
       "3   femenino  31.0    confirmado                 NaN       NaN        NaN   \n",
       "4  masculino  32.0    confirmado                 NaN       NaN        NaN   \n",
       "\n",
       "  tipo_contagio  \n",
       "0   Comunitario  \n",
       "1   Comunitario  \n",
       "2   Comunitario  \n",
       "3   Comunitario  \n",
       "4   Comunitario  "
      ]
     },
     "execution_count": 46,
     "metadata": {},
     "output_type": "execute_result"
    }
   ],
   "source": [
    "df_covid.head()"
   ]
  },
  {
   "cell_type": "code",
   "execution_count": 47,
   "id": "4c8574f5",
   "metadata": {},
   "outputs": [
    {
     "data": {
      "text/plain": [
       "(3276519, 14)"
      ]
     },
     "execution_count": 47,
     "metadata": {},
     "output_type": "execute_result"
    }
   ],
   "source": [
    "df_covid.shape"
   ]
  },
  {
   "cell_type": "code",
   "execution_count": 48,
   "id": "7544d0d4",
   "metadata": {},
   "outputs": [
    {
     "data": {
      "text/plain": [
       "CABA                   1871066\n",
       "Buenos Aires           1219409\n",
       "Córdoba                  15897\n",
       "Misiones                 15458\n",
       "Chubut                   14695\n",
       "Corrientes               14317\n",
       "Santa Fe                 12510\n",
       "Río Negro                11410\n",
       "Entre Ríos                9743\n",
       "Santa Cruz                9015\n",
       "Mendoza                   7917\n",
       "Salta                     7276\n",
       "Tucumán                   7162\n",
       "Neuquén                   6910\n",
       "Chaco                     6876\n",
       "Santiago del Estero       6378\n",
       "Tierra del Fuego          5110\n",
       "Formosa                   4442\n",
       "Jujuy                     3775\n",
       "La Pampa                  3687\n",
       "San Luis                  3399\n",
       "San Juan                  2981\n",
       "La Rioja                  1732\n",
       "Catamarca                 1583\n",
       "Name: provincia, dtype: int64"
      ]
     },
     "execution_count": 48,
     "metadata": {},
     "output_type": "execute_result"
    }
   ],
   "source": [
    "df_covid.provincia.value_counts()"
   ]
  },
  {
   "cell_type": "code",
   "execution_count": 49,
   "id": "f7aaba98",
   "metadata": {},
   "outputs": [],
   "source": [
    "df_covid = df_covid.loc[ df_covid.provincia == 'CABA', : ]"
   ]
  },
  {
   "cell_type": "code",
   "execution_count": 50,
   "id": "f5d7202f",
   "metadata": {},
   "outputs": [
    {
     "data": {
      "text/plain": [
       "CABA    1871066\n",
       "Name: provincia, dtype: int64"
      ]
     },
     "execution_count": 50,
     "metadata": {},
     "output_type": "execute_result"
    }
   ],
   "source": [
    "df_covid.provincia.value_counts()"
   ]
  },
  {
   "cell_type": "code",
   "execution_count": 51,
   "id": "86e2672a",
   "metadata": {},
   "outputs": [],
   "source": [
    "df_covid['Año'] = [ i[5:9] for i in df_covid['fecha_clasificacion'] ]"
   ]
  },
  {
   "cell_type": "code",
   "execution_count": 52,
   "id": "36cacf64",
   "metadata": {},
   "outputs": [
    {
     "ename": "AttributeError",
     "evalue": "'DataFrame' object has no attribute 'AÑO'",
     "output_type": "error",
     "traceback": [
      "\u001b[0;31m---------------------------------------------------------------------------\u001b[0m",
      "\u001b[0;31mAttributeError\u001b[0m                            Traceback (most recent call last)",
      "\u001b[0;32m<ipython-input-52-8705fd34ccd8>\u001b[0m in \u001b[0;36m<module>\u001b[0;34m\u001b[0m\n\u001b[0;32m----> 1\u001b[0;31m \u001b[0mdf_covid\u001b[0m \u001b[0;34m=\u001b[0m \u001b[0mdf_covid\u001b[0m\u001b[0;34m.\u001b[0m\u001b[0mloc\u001b[0m\u001b[0;34m[\u001b[0m \u001b[0mdf_covid\u001b[0m\u001b[0;34m.\u001b[0m\u001b[0mAÑO\u001b[0m \u001b[0;34m==\u001b[0m \u001b[0;34m'2020'\u001b[0m \u001b[0;34m]\u001b[0m\u001b[0;34m\u001b[0m\u001b[0;34m\u001b[0m\u001b[0m\n\u001b[0m",
      "\u001b[0;32m~/opt/anaconda3/lib/python3.8/site-packages/pandas/core/generic.py\u001b[0m in \u001b[0;36m__getattr__\u001b[0;34m(self, name)\u001b[0m\n\u001b[1;32m   5463\u001b[0m             \u001b[0;32mif\u001b[0m \u001b[0mself\u001b[0m\u001b[0;34m.\u001b[0m\u001b[0m_info_axis\u001b[0m\u001b[0;34m.\u001b[0m\u001b[0m_can_hold_identifiers_and_holds_name\u001b[0m\u001b[0;34m(\u001b[0m\u001b[0mname\u001b[0m\u001b[0;34m)\u001b[0m\u001b[0;34m:\u001b[0m\u001b[0;34m\u001b[0m\u001b[0;34m\u001b[0m\u001b[0m\n\u001b[1;32m   5464\u001b[0m                 \u001b[0;32mreturn\u001b[0m \u001b[0mself\u001b[0m\u001b[0;34m[\u001b[0m\u001b[0mname\u001b[0m\u001b[0;34m]\u001b[0m\u001b[0;34m\u001b[0m\u001b[0;34m\u001b[0m\u001b[0m\n\u001b[0;32m-> 5465\u001b[0;31m             \u001b[0;32mreturn\u001b[0m \u001b[0mobject\u001b[0m\u001b[0;34m.\u001b[0m\u001b[0m__getattribute__\u001b[0m\u001b[0;34m(\u001b[0m\u001b[0mself\u001b[0m\u001b[0;34m,\u001b[0m \u001b[0mname\u001b[0m\u001b[0;34m)\u001b[0m\u001b[0;34m\u001b[0m\u001b[0;34m\u001b[0m\u001b[0m\n\u001b[0m\u001b[1;32m   5466\u001b[0m \u001b[0;34m\u001b[0m\u001b[0m\n\u001b[1;32m   5467\u001b[0m     \u001b[0;32mdef\u001b[0m \u001b[0m__setattr__\u001b[0m\u001b[0;34m(\u001b[0m\u001b[0mself\u001b[0m\u001b[0;34m,\u001b[0m \u001b[0mname\u001b[0m\u001b[0;34m:\u001b[0m \u001b[0mstr\u001b[0m\u001b[0;34m,\u001b[0m \u001b[0mvalue\u001b[0m\u001b[0;34m)\u001b[0m \u001b[0;34m->\u001b[0m \u001b[0;32mNone\u001b[0m\u001b[0;34m:\u001b[0m\u001b[0;34m\u001b[0m\u001b[0;34m\u001b[0m\u001b[0m\n",
      "\u001b[0;31mAttributeError\u001b[0m: 'DataFrame' object has no attribute 'AÑO'"
     ]
    }
   ],
   "source": [
    "df_covid = df_covid.loc[ df_covid.Año == '2020' ]"
   ]
  },
  {
   "cell_type": "code",
   "execution_count": null,
   "id": "8d11f370",
   "metadata": {},
   "outputs": [],
   "source": [
    "df_covid['Mes'] = [ i[2:5] for i in df_covid['fecha_clasificacion'] ]"
   ]
  },
  {
   "cell_type": "code",
   "execution_count": null,
   "id": "0e2cf1e2",
   "metadata": {},
   "outputs": [],
   "source": [
    "MESES = { 'JAN' : '1', 'FEB' : '2', 'MAR' : '3', 'APR' : '4', 'MAY' : '5', 'JUN' : '6', 'JUL' : '7', 'AUG' : '8', 'SEP' : '9', 'OCT' : '10', 'NOV' : '11', 'DEC' : '12'}"
   ]
  },
  {
   "cell_type": "code",
   "execution_count": null,
   "id": "f29e675a",
   "metadata": {},
   "outputs": [],
   "source": [
    "df_covid[\"Mes\"] = df_covid[\"Mes\"].map(MESES)"
   ]
  },
  {
   "cell_type": "code",
   "execution_count": null,
   "id": "5696d800",
   "metadata": {},
   "outputs": [],
   "source": [
    "df_covid['Tipo'] = 'Casos de Covid'"
   ]
  },
  {
   "cell_type": "code",
   "execution_count": null,
   "id": "6c564036",
   "metadata": {},
   "outputs": [],
   "source": [
    "df = df_covid.groupby(['Año','Mes','Tipo'],as_index=False).count()[['Año','Mes','Tipo','numero_de_caso']].rename({'numero_de_caso':'Total'},axis=1)"
   ]
  },
  {
   "cell_type": "code",
   "execution_count": null,
   "id": "fbc28592",
   "metadata": {},
   "outputs": [],
   "source": [
    "df.Mes = df.Mes.astype(int)\n",
    "df = df.sort_values(by=['Año','Mes']).reset_index(drop=True)\n",
    "df"
   ]
  },
  {
   "cell_type": "code",
   "execution_count": null,
   "id": "745ce957",
   "metadata": {},
   "outputs": [],
   "source": [
    "df['Total'] = df['Total'].astype(int)\n",
    "df['Intervalo']=pd.cut(df['Total'],10,labels=[1,2,3,4,5,6,7,8,9,10])\n",
    "df"
   ]
  },
  {
   "cell_type": "code",
   "execution_count": null,
   "id": "ed11f669",
   "metadata": {},
   "outputs": [],
   "source": [
    "enero = df.loc[ df.Mes == 1, ['Intervalo']].iloc[0,0]\n",
    "diciembre = df.loc[ df.Mes == 12, ['Intervalo']].iloc[0,0]\n",
    "diciembre_enero = int(((diciembre - enero)/enero)*100)\n",
    "if diciembre_enero > 0:\n",
    "    diciembre_enero = '+' + str(diciembre_enero) + ' %'\n",
    "else:\n",
    "    diciembre_enero = str(diciembre_enero) + ' %'"
   ]
  },
  {
   "cell_type": "code",
   "execution_count": null,
   "id": "ea085714",
   "metadata": {},
   "outputs": [],
   "source": [
    "df['Diciembre Vs Enero'] = diciembre_enero\n",
    "df"
   ]
  },
  {
   "cell_type": "code",
   "execution_count": null,
   "id": "c8fc4058",
   "metadata": {},
   "outputs": [],
   "source": [
    "writer = pd.ExcelWriter(output_file_name, engine='xlsxwriter')\n",
    "\n",
    "df.to_excel(writer, index=False, sheet_name=output_sheet_name)\n",
    "\n",
    "workbook  = writer.book\n",
    "worksheet = writer.sheets[output_sheet_name]\n",
    "\n",
    "format = workbook.add_format()\n",
    "format.set_align('center')\n",
    "format.set_align('vcenter')\n",
    "\n",
    "worksheet.set_column('A:F', 30, format)\n",
    "\n",
    "writer.save()"
   ]
  }
 ],
 "metadata": {
  "interpreter": {
   "hash": "eac14dce34f2fea3ce43d9da55955520a6b2e9da2e546cd680d80c9940fbf1cf"
  },
  "kernelspec": {
   "display_name": "Python 3",
   "language": "python",
   "name": "python3"
  },
  "language_info": {
   "codemirror_mode": {
    "name": "ipython",
    "version": 3
   },
   "file_extension": ".py",
   "mimetype": "text/x-python",
   "name": "python",
   "nbconvert_exporter": "python",
   "pygments_lexer": "ipython3",
   "version": "3.8.8"
  }
 },
 "nbformat": 4,
 "nbformat_minor": 5
}
