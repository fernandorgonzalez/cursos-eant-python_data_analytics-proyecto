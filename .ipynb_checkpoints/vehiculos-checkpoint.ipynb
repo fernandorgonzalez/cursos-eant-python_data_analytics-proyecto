{
 "cells": [
  {
   "cell_type": "code",
   "execution_count": 18,
   "id": "e10424d4",
   "metadata": {},
   "outputs": [],
   "source": [
    "import pandas as pd"
   ]
  },
  {
   "cell_type": "code",
   "execution_count": 19,
   "id": "2fa477cd",
   "metadata": {},
   "outputs": [],
   "source": [
    "input_file_name = 'vehiculos.csv'"
   ]
  },
  {
   "cell_type": "code",
   "execution_count": 20,
   "id": "be5b67a2",
   "metadata": {},
   "outputs": [],
   "source": [
    "output_file_name = \"vehiculos.xlsx\"\n",
    "output_sheet_name = \"vehiculos\""
   ]
  },
  {
   "cell_type": "code",
   "execution_count": 21,
   "id": "824b73f6",
   "metadata": {},
   "outputs": [],
   "source": [
    "df_vehiculos = pd.read_csv(input_file_name)"
   ]
  },
  {
   "cell_type": "code",
   "execution_count": 22,
   "id": "81a0f1e8",
   "metadata": {},
   "outputs": [
    {
     "data": {
      "text/html": [
       "<div>\n",
       "<style scoped>\n",
       "    .dataframe tbody tr th:only-of-type {\n",
       "        vertical-align: middle;\n",
       "    }\n",
       "\n",
       "    .dataframe tbody tr th {\n",
       "        vertical-align: top;\n",
       "    }\n",
       "\n",
       "    .dataframe thead th {\n",
       "        text-align: right;\n",
       "    }\n",
       "</style>\n",
       "<table border=\"1\" class=\"dataframe\">\n",
       "  <thead>\n",
       "    <tr style=\"text-align: right;\">\n",
       "      <th></th>\n",
       "      <th>periodo</th>\n",
       "      <th>fecha</th>\n",
       "      <th>mes</th>\n",
       "      <th>dia</th>\n",
       "      <th>dia_fecha</th>\n",
       "      <th>hora_inicio</th>\n",
       "      <th>hora_fin</th>\n",
       "      <th>estacion</th>\n",
       "      <th>tipo_vehiculo</th>\n",
       "      <th>forma_pago</th>\n",
       "      <th>observacion</th>\n",
       "      <th>sentido</th>\n",
       "      <th>cantidad_pasos</th>\n",
       "    </tr>\n",
       "  </thead>\n",
       "  <tbody>\n",
       "    <tr>\n",
       "      <th>0</th>\n",
       "      <td>2020.0</td>\n",
       "      <td>2020-01-01 00:00:00</td>\n",
       "      <td>enero</td>\n",
       "      <td>Miércoles</td>\n",
       "      <td>1.0</td>\n",
       "      <td>0.0</td>\n",
       "      <td>1.0</td>\n",
       "      <td>ALBERDI</td>\n",
       "      <td>Auto</td>\n",
       "      <td>Efectivo</td>\n",
       "      <td>Efectivo</td>\n",
       "      <td>Centro</td>\n",
       "      <td>24.0</td>\n",
       "    </tr>\n",
       "    <tr>\n",
       "      <th>1</th>\n",
       "      <td>2020.0</td>\n",
       "      <td>2020-01-01 00:00:00</td>\n",
       "      <td>enero</td>\n",
       "      <td>Miércoles</td>\n",
       "      <td>1.0</td>\n",
       "      <td>0.0</td>\n",
       "      <td>1.0</td>\n",
       "      <td>ALBERDI</td>\n",
       "      <td>Auto</td>\n",
       "      <td>Efectivo</td>\n",
       "      <td>Efectivo</td>\n",
       "      <td>Provincia</td>\n",
       "      <td>80.0</td>\n",
       "    </tr>\n",
       "    <tr>\n",
       "      <th>2</th>\n",
       "      <td>2020.0</td>\n",
       "      <td>2020-01-01 00:00:00</td>\n",
       "      <td>enero</td>\n",
       "      <td>Miércoles</td>\n",
       "      <td>1.0</td>\n",
       "      <td>0.0</td>\n",
       "      <td>1.0</td>\n",
       "      <td>ALBERDI</td>\n",
       "      <td>Auto</td>\n",
       "      <td>Rec.Deuda</td>\n",
       "      <td>Paso en Infracción</td>\n",
       "      <td>Provincia</td>\n",
       "      <td>1.0</td>\n",
       "    </tr>\n",
       "    <tr>\n",
       "      <th>3</th>\n",
       "      <td>2020.0</td>\n",
       "      <td>2020-01-01 00:00:00</td>\n",
       "      <td>enero</td>\n",
       "      <td>Miércoles</td>\n",
       "      <td>1.0</td>\n",
       "      <td>0.0</td>\n",
       "      <td>1.0</td>\n",
       "      <td>ALBERDI</td>\n",
       "      <td>Auto</td>\n",
       "      <td>Rec.Deuda</td>\n",
       "      <td>Paso en infracción con Multa LPR</td>\n",
       "      <td>Centro</td>\n",
       "      <td>1.0</td>\n",
       "    </tr>\n",
       "    <tr>\n",
       "      <th>4</th>\n",
       "      <td>2020.0</td>\n",
       "      <td>2020-01-01 00:00:00</td>\n",
       "      <td>enero</td>\n",
       "      <td>Miércoles</td>\n",
       "      <td>1.0</td>\n",
       "      <td>0.0</td>\n",
       "      <td>1.0</td>\n",
       "      <td>ALBERDI</td>\n",
       "      <td>Auto</td>\n",
       "      <td>Rec.Deuda</td>\n",
       "      <td>Paso en infracción con Multa LPR</td>\n",
       "      <td>Provincia</td>\n",
       "      <td>1.0</td>\n",
       "    </tr>\n",
       "  </tbody>\n",
       "</table>\n",
       "</div>"
      ],
      "text/plain": [
       "   periodo                fecha    mes        dia  dia_fecha  hora_inicio  \\\n",
       "0   2020.0  2020-01-01 00:00:00  enero  Miércoles        1.0          0.0   \n",
       "1   2020.0  2020-01-01 00:00:00  enero  Miércoles        1.0          0.0   \n",
       "2   2020.0  2020-01-01 00:00:00  enero  Miércoles        1.0          0.0   \n",
       "3   2020.0  2020-01-01 00:00:00  enero  Miércoles        1.0          0.0   \n",
       "4   2020.0  2020-01-01 00:00:00  enero  Miércoles        1.0          0.0   \n",
       "\n",
       "   hora_fin estacion tipo_vehiculo forma_pago  \\\n",
       "0       1.0  ALBERDI          Auto   Efectivo   \n",
       "1       1.0  ALBERDI          Auto   Efectivo   \n",
       "2       1.0  ALBERDI          Auto  Rec.Deuda   \n",
       "3       1.0  ALBERDI          Auto  Rec.Deuda   \n",
       "4       1.0  ALBERDI          Auto  Rec.Deuda   \n",
       "\n",
       "                        observacion    sentido  cantidad_pasos  \n",
       "0                          Efectivo     Centro            24.0  \n",
       "1                          Efectivo  Provincia            80.0  \n",
       "2                Paso en Infracción  Provincia             1.0  \n",
       "3  Paso en infracción con Multa LPR     Centro             1.0  \n",
       "4  Paso en infracción con Multa LPR  Provincia             1.0  "
      ]
     },
     "execution_count": 22,
     "metadata": {},
     "output_type": "execute_result"
    }
   ],
   "source": [
    "df_vehiculos.head()"
   ]
  },
  {
   "cell_type": "code",
   "execution_count": 23,
   "id": "f83f6e4c",
   "metadata": {},
   "outputs": [
    {
     "data": {
      "text/plain": [
       "(2533743, 13)"
      ]
     },
     "execution_count": 23,
     "metadata": {},
     "output_type": "execute_result"
    }
   ],
   "source": [
    "df_vehiculos.shape"
   ]
  },
  {
   "cell_type": "code",
   "execution_count": 24,
   "id": "d3d0dfd8",
   "metadata": {},
   "outputs": [],
   "source": [
    "df_vehiculos[\"AÑO\"] = pd.DatetimeIndex(df_vehiculos['fecha']).year"
   ]
  },
  {
   "cell_type": "code",
   "execution_count": 25,
   "id": "ece5d4c0",
   "metadata": {},
   "outputs": [],
   "source": [
    "df_vehiculos[\"MES\"] = pd.DatetimeIndex(df_vehiculos['fecha']).month"
   ]
  },
  {
   "cell_type": "code",
   "execution_count": 26,
   "id": "2dfd554d",
   "metadata": {},
   "outputs": [],
   "source": [
    "df_vehiculos['TIPO'] = 'VEHICULOS'"
   ]
  },
  {
   "cell_type": "code",
   "execution_count": 27,
   "id": "6cb42f6b",
   "metadata": {},
   "outputs": [],
   "source": [
    "df_vehiculos['ID'] = df_vehiculos.index"
   ]
  },
  {
   "cell_type": "code",
   "execution_count": 30,
   "id": "bff56808",
   "metadata": {},
   "outputs": [],
   "source": [
    "df = df_vehiculos.groupby(['AÑO','MES','TIPO'],as_index=False).count()[['AÑO','MES','TIPO','ID']].rename({'ID':'TOTAL'},axis=1)"
   ]
  },
  {
   "cell_type": "code",
   "execution_count": 31,
   "id": "d1142360",
   "metadata": {},
   "outputs": [
    {
     "data": {
      "text/html": [
       "<div>\n",
       "<style scoped>\n",
       "    .dataframe tbody tr th:only-of-type {\n",
       "        vertical-align: middle;\n",
       "    }\n",
       "\n",
       "    .dataframe tbody tr th {\n",
       "        vertical-align: top;\n",
       "    }\n",
       "\n",
       "    .dataframe thead th {\n",
       "        text-align: right;\n",
       "    }\n",
       "</style>\n",
       "<table border=\"1\" class=\"dataframe\">\n",
       "  <thead>\n",
       "    <tr style=\"text-align: right;\">\n",
       "      <th></th>\n",
       "      <th>AÑO</th>\n",
       "      <th>MES</th>\n",
       "      <th>TIPO</th>\n",
       "      <th>TOTAL</th>\n",
       "    </tr>\n",
       "  </thead>\n",
       "  <tbody>\n",
       "    <tr>\n",
       "      <th>0</th>\n",
       "      <td>2020</td>\n",
       "      <td>1</td>\n",
       "      <td>VEHICULOS</td>\n",
       "      <td>10</td>\n",
       "    </tr>\n",
       "    <tr>\n",
       "      <th>1</th>\n",
       "      <td>2020</td>\n",
       "      <td>2</td>\n",
       "      <td>VEHICULOS</td>\n",
       "      <td>9</td>\n",
       "    </tr>\n",
       "    <tr>\n",
       "      <th>2</th>\n",
       "      <td>2020</td>\n",
       "      <td>3</td>\n",
       "      <td>VEHICULOS</td>\n",
       "      <td>6</td>\n",
       "    </tr>\n",
       "    <tr>\n",
       "      <th>3</th>\n",
       "      <td>2020</td>\n",
       "      <td>4</td>\n",
       "      <td>VEHICULOS</td>\n",
       "      <td>1</td>\n",
       "    </tr>\n",
       "    <tr>\n",
       "      <th>4</th>\n",
       "      <td>2020</td>\n",
       "      <td>5</td>\n",
       "      <td>VEHICULOS</td>\n",
       "      <td>3</td>\n",
       "    </tr>\n",
       "    <tr>\n",
       "      <th>5</th>\n",
       "      <td>2020</td>\n",
       "      <td>6</td>\n",
       "      <td>VEHICULOS</td>\n",
       "      <td>7</td>\n",
       "    </tr>\n",
       "    <tr>\n",
       "      <th>6</th>\n",
       "      <td>2020</td>\n",
       "      <td>7</td>\n",
       "      <td>VEHICULOS</td>\n",
       "      <td>7</td>\n",
       "    </tr>\n",
       "    <tr>\n",
       "      <th>7</th>\n",
       "      <td>2020</td>\n",
       "      <td>8</td>\n",
       "      <td>VEHICULOS</td>\n",
       "      <td>7</td>\n",
       "    </tr>\n",
       "    <tr>\n",
       "      <th>8</th>\n",
       "      <td>2020</td>\n",
       "      <td>9</td>\n",
       "      <td>VEHICULOS</td>\n",
       "      <td>8</td>\n",
       "    </tr>\n",
       "    <tr>\n",
       "      <th>9</th>\n",
       "      <td>2020</td>\n",
       "      <td>10</td>\n",
       "      <td>VEHICULOS</td>\n",
       "      <td>8</td>\n",
       "    </tr>\n",
       "    <tr>\n",
       "      <th>10</th>\n",
       "      <td>2020</td>\n",
       "      <td>11</td>\n",
       "      <td>VEHICULOS</td>\n",
       "      <td>8</td>\n",
       "    </tr>\n",
       "    <tr>\n",
       "      <th>11</th>\n",
       "      <td>2020</td>\n",
       "      <td>12</td>\n",
       "      <td>VEHICULOS</td>\n",
       "      <td>9</td>\n",
       "    </tr>\n",
       "  </tbody>\n",
       "</table>\n",
       "</div>"
      ],
      "text/plain": [
       "     AÑO  MES       TIPO TOTAL\n",
       "0   2020    1  VEHICULOS    10\n",
       "1   2020    2  VEHICULOS     9\n",
       "2   2020    3  VEHICULOS     6\n",
       "3   2020    4  VEHICULOS     1\n",
       "4   2020    5  VEHICULOS     3\n",
       "5   2020    6  VEHICULOS     7\n",
       "6   2020    7  VEHICULOS     7\n",
       "7   2020    8  VEHICULOS     7\n",
       "8   2020    9  VEHICULOS     8\n",
       "9   2020   10  VEHICULOS     8\n",
       "10  2020   11  VEHICULOS     8\n",
       "11  2020   12  VEHICULOS     9"
      ]
     },
     "execution_count": 31,
     "metadata": {},
     "output_type": "execute_result"
    }
   ],
   "source": [
    "df['TOTAL'] = df['TOTAL'].astype(int)\n",
    "df['TOTAL']=pd.cut(df['TOTAL'],10,labels=[1,2,3,4,5,6,7,8,9,10])\n",
    "df"
   ]
  },
  {
   "cell_type": "code",
   "execution_count": 32,
   "id": "645c4769",
   "metadata": {},
   "outputs": [],
   "source": [
    "writer = pd.ExcelWriter(output_file_name, engine='xlsxwriter')\n",
    "\n",
    "df.to_excel(writer, index=False, sheet_name=output_sheet_name)\n",
    "\n",
    "workbook  = writer.book\n",
    "worksheet = writer.sheets[output_sheet_name]\n",
    "\n",
    "format = workbook.add_format()\n",
    "format.set_align('center')\n",
    "format.set_align('vcenter')\n",
    "\n",
    "worksheet.set_column('A:D', 30, format)\n",
    "\n",
    "writer.save()"
   ]
  }
 ],
 "metadata": {
  "interpreter": {
   "hash": "eac14dce34f2fea3ce43d9da55955520a6b2e9da2e546cd680d80c9940fbf1cf"
  },
  "kernelspec": {
   "display_name": "Python 3",
   "language": "python",
   "name": "python3"
  },
  "language_info": {
   "codemirror_mode": {
    "name": "ipython",
    "version": 3
   },
   "file_extension": ".py",
   "mimetype": "text/x-python",
   "name": "python",
   "nbconvert_exporter": "python",
   "pygments_lexer": "ipython3",
   "version": "3.8.8"
  }
 },
 "nbformat": 4,
 "nbformat_minor": 5
}
